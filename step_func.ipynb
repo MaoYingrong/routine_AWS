{
 "cells": [
  {
   "cell_type": "code",
   "execution_count": 1,
   "metadata": {},
   "outputs": [],
   "source": [
    "import boto3\n",
    "from sfn_setup import make_def \n",
    "import json\n",
    "import itertools\n",
    "import numpy as np\n",
    "import uuid"
   ]
  },
  {
   "cell_type": "code",
   "execution_count": 2,
   "metadata": {},
   "outputs": [
    {
     "data": {
      "text/plain": [
       "['finalproject']"
      ]
     },
     "execution_count": 2,
     "metadata": {},
     "output_type": "execute_result"
    }
   ],
   "source": [
    "# Initialize boto3 handler\n",
    "rds = boto3.client('rds')\n",
    "\n",
    "# Describes your currently active databases\n",
    "DBs = rds.describe_db_instances()['DBInstances']\n",
    "activeDBs = [ x['DBName'] for x in DBs ]\n",
    "activeDBs"
   ]
  },
  {
   "cell_type": "code",
   "execution_count": 3,
   "metadata": {},
   "outputs": [],
   "source": [
    "DB_NAME = 'finalproject'\n",
    "INSTANCE_NAME = 'final-instance'\n",
    "\n",
    "if DB_NAME not in activeDBs:\n",
    "    # Create a new MySQL database on AWS\n",
    "    response = rds.create_db_instance(\n",
    "        DBInstanceIdentifier=INSTANCE_NAME,\n",
    "        DBName=DB_NAME,\n",
    "        MasterUsername='username',\n",
    "        MasterUserPassword='password',\n",
    "        DBInstanceClass='db.t3.micro',   # This specifies the EC2 instance that will run the datbase\n",
    "        Engine='MySQL',\n",
    "        AllocatedStorage=5\n",
    "    )\n",
    "rds.get_waiter('db_instance_available').wait(DBInstanceIdentifier=INSTANCE_NAME)"
   ]
  },
  {
   "cell_type": "code",
   "execution_count": 4,
   "metadata": {},
   "outputs": [
    {
     "name": "stdout",
     "output_type": "stream",
     "text": [
      "final-instance is available at final-instance.cjasscu8073h.us-east-1.rds.amazonaws.com on Port 3306\n"
     ]
    }
   ],
   "source": [
    "db = rds.describe_db_instances()['DBInstances'][0]\n",
    "ENDPOINT = db['Endpoint']['Address']\n",
    "PORT = db['Endpoint']['Port']\n",
    "DBID = db['DBInstanceIdentifier']\n",
    "\n",
    "print(DBID,\n",
    "      \"is available at\", ENDPOINT,\n",
    "      \"on Port\", PORT,\n",
    "     )"
   ]
  },
  {
   "cell_type": "code",
   "execution_count": 5,
   "metadata": {},
   "outputs": [
    {
     "name": "stdout",
     "output_type": "stream",
     "text": [
      "Permissions already adjusted.\n"
     ]
    }
   ],
   "source": [
    "SGNAME = db['VpcSecurityGroups'][0]['VpcSecurityGroupId']\n",
    "\n",
    "# Adjust security permissions\n",
    "try:\n",
    "    ec2 = boto3.client('ec2')\n",
    "    data = ec2.authorize_security_group_ingress(\n",
    "            GroupId=SGNAME,\n",
    "            IpPermissions=[\n",
    "                {'IpProtocol': 'tcp',\n",
    "                 'FromPort': PORT,\n",
    "                 'ToPort': PORT,\n",
    "                 'IpRanges': [{'CidrIp': '0.0.0.0/0'}]}\n",
    "            ]\n",
    "    )\n",
    "except ec2.exceptions.ClientError as e:\n",
    "    if e.response[\"Error\"][\"Code\"] == 'InvalidPermission.Duplicate':\n",
    "        print(\"Permissions already adjusted.\")\n",
    "    else:\n",
    "        print(e)"
   ]
  },
  {
   "cell_type": "code",
   "execution_count": 36,
   "metadata": {},
   "outputs": [],
   "source": [
    "import mysql.connector\n",
    "\n",
    "# Connect to the MySQL database\n",
    "conn =  mysql.connector.connect(host=ENDPOINT, \n",
    "                                user=\"username\", \n",
    "                                passwd=\"password\", \n",
    "                                port=PORT, \n",
    "                                database=DB_NAME)\n",
    "cur = conn.cursor()"
   ]
  },
  {
   "cell_type": "code",
   "execution_count": 39,
   "metadata": {},
   "outputs": [
    {
     "name": "stdout",
     "output_type": "stream",
     "text": [
      "P1 INT NOT NULL, P2 INT NOT NULL, P3 INT NOT NULL, P4 INT NOT NULL, P5 INT NOT NULL, P6 INT NOT NULL, P7 INT NOT NULL, P8 INT NOT NULL, P9 INT NOT NULL, P10 INT NOT NULL, P11 INT NOT NULL, P12 INT NOT NULL, P13 INT NOT NULL, P14 INT NOT NULL, P15 INT NOT NULL, P16 INT NOT NULL, P17 INT NOT NULL, P18 INT NOT NULL, P19 INT NOT NULL, P20 INT NOT NULL, P21 INT NOT NULL, P22 INT NOT NULL, P23 INT NOT NULL, P24 INT NOT NULL, P25 INT NOT NULL, P26 INT NOT NULL, P27 INT NOT NULL, P28 INT NOT NULL, P29 INT NOT NULL, P30 INT NOT NULL, P31 INT NOT NULL, P32 INT NOT NULL, P33 INT NOT NULL, P34 INT NOT NULL, P35 INT NOT NULL, P36 INT NOT NULL, P37 INT NOT NULL, P38 INT NOT NULL, P39 INT NOT NULL, P40 INT NOT NULL, P41 INT NOT NULL, P42 INT NOT NULL, P43 INT NOT NULL, P44 INT NOT NULL, P45 INT NOT NULL, P46 INT NOT NULL, P47 INT NOT NULL, P48 INT NOT NULL, P49 INT NOT NULL, P50 INT NOT NULL, P51 INT NOT NULL, P52 INT NOT NULL, P53 INT NOT NULL, P54 INT NOT NULL, P55 INT NOT NULL, P56 INT NOT NULL, P57 INT NOT NULL, P58 INT NOT NULL, P59 INT NOT NULL, P60 INT NOT NULL, P61 INT NOT NULL, P62 INT NOT NULL, P63 INT NOT NULL, P64 INT NOT NULL, P65 INT NOT NULL, P66 INT NOT NULL, P67 INT NOT NULL, P68 INT NOT NULL, P69 INT NOT NULL, P70 INT NOT NULL, P71 INT NOT NULL, P72 INT NOT NULL, P73 INT NOT NULL, P74 INT NOT NULL, P75 INT NOT NULL, P76 INT NOT NULL, P77 INT NOT NULL, P78 INT NOT NULL, P79 INT NOT NULL, P80 INT NOT NULL, P81 INT NOT NULL, P82 INT NOT NULL, P83 INT NOT NULL, P84 INT NOT NULL, P85 INT NOT NULL, P86 INT NOT NULL, P87 INT NOT NULL, P88 INT NOT NULL, P89 INT NOT NULL, P90 INT NOT NULL, P91 INT NOT NULL, P92 INT NOT NULL, P93 INT NOT NULL, P94 INT NOT NULL, P95 INT NOT NULL, P96 INT NOT NULL, P97 INT NOT NULL, P98 INT NOT NULL, P99 INT NOT NULL, P100 INT NOT NULL\n"
     ]
    }
   ],
   "source": [
    "# Define the start and end of the range\n",
    "start = 1\n",
    "end = 100\n",
    "\n",
    "# Generate the column definitions\n",
    "columns = [f\"P{i} INT NOT NULL\" for i in range(start, end + 1)]\n",
    "\n",
    "# Join all column definitions into a single string, separated by commas\n",
    "column_string = \", \".join(columns)\n",
    "\n",
    "print(column_string)"
   ]
  },
  {
   "cell_type": "code",
   "execution_count": 42,
   "metadata": {},
   "outputs": [
    {
     "name": "stdout",
     "output_type": "stream",
     "text": [
      "P1T0 INT NOT NULL, P2T0 INT NOT NULL, P3T0 INT NOT NULL, P4T0 INT NOT NULL, P5T0 INT NOT NULL, P6T0 INT NOT NULL, P7T0 INT NOT NULL, P8T0 INT NOT NULL, P9T0 INT NOT NULL, P10T0 INT NOT NULL, P11T0 INT NOT NULL, P12T0 INT NOT NULL, P13T0 INT NOT NULL, P14T0 INT NOT NULL, P15T0 INT NOT NULL, P16T0 INT NOT NULL, P17T0 INT NOT NULL, P18T0 INT NOT NULL, P19T0 INT NOT NULL, P20T0 INT NOT NULL, P21T0 INT NOT NULL, P22T0 INT NOT NULL, P23T0 INT NOT NULL, P24T0 INT NOT NULL, P25T0 INT NOT NULL, P26T0 INT NOT NULL, P27T0 INT NOT NULL, P28T0 INT NOT NULL, P29T0 INT NOT NULL, P30T0 INT NOT NULL, P31T0 INT NOT NULL, P32T0 INT NOT NULL, P33T0 INT NOT NULL, P34T0 INT NOT NULL, P35T0 INT NOT NULL, P36T0 INT NOT NULL, P37T0 INT NOT NULL, P38T0 INT NOT NULL, P39T0 INT NOT NULL, P40T0 INT NOT NULL, P41T0 INT NOT NULL, P42T0 INT NOT NULL, P43T0 INT NOT NULL, P44T0 INT NOT NULL, P45T0 INT NOT NULL, P46T0 INT NOT NULL, P47T0 INT NOT NULL, P48T0 INT NOT NULL, P49T0 INT NOT NULL, P50T0 INT NOT NULL, P51T0 INT NOT NULL, P52T0 INT NOT NULL, P53T0 INT NOT NULL, P54T0 INT NOT NULL, P55T0 INT NOT NULL, P56T0 INT NOT NULL, P57T0 INT NOT NULL, P58T0 INT NOT NULL, P59T0 INT NOT NULL, P60T0 INT NOT NULL, P61T0 INT NOT NULL, P62T0 INT NOT NULL, P63T0 INT NOT NULL, P64T0 INT NOT NULL, P65T0 INT NOT NULL, P66T0 INT NOT NULL, P67T0 INT NOT NULL, P68T0 INT NOT NULL, P69T0 INT NOT NULL, P70T0 INT NOT NULL, P71T0 INT NOT NULL, P72T0 INT NOT NULL, P73T0 INT NOT NULL, P74T0 INT NOT NULL, P75T0 INT NOT NULL, P76T0 INT NOT NULL, P77T0 INT NOT NULL, P78T0 INT NOT NULL, P79T0 INT NOT NULL, P80T0 INT NOT NULL, P81T0 INT NOT NULL, P82T0 INT NOT NULL, P83T0 INT NOT NULL, P84T0 INT NOT NULL, P85T0 INT NOT NULL, P86T0 INT NOT NULL, P87T0 INT NOT NULL, P88T0 INT NOT NULL, P89T0 INT NOT NULL, P90T0 INT NOT NULL, P91T0 INT NOT NULL, P92T0 INT NOT NULL, P93T0 INT NOT NULL, P94T0 INT NOT NULL, P95T0 INT NOT NULL, P96T0 INT NOT NULL, P97T0 INT NOT NULL, P98T0 INT NOT NULL, P99T0 INT NOT NULL, P100T0 INT NOT NULL\n",
      "P1T1 INT NOT NULL, P2T1 INT NOT NULL, P3T1 INT NOT NULL, P4T1 INT NOT NULL, P5T1 INT NOT NULL, P6T1 INT NOT NULL, P7T1 INT NOT NULL, P8T1 INT NOT NULL, P9T1 INT NOT NULL, P10T1 INT NOT NULL, P11T1 INT NOT NULL, P12T1 INT NOT NULL, P13T1 INT NOT NULL, P14T1 INT NOT NULL, P15T1 INT NOT NULL, P16T1 INT NOT NULL, P17T1 INT NOT NULL, P18T1 INT NOT NULL, P19T1 INT NOT NULL, P20T1 INT NOT NULL, P21T1 INT NOT NULL, P22T1 INT NOT NULL, P23T1 INT NOT NULL, P24T1 INT NOT NULL, P25T1 INT NOT NULL, P26T1 INT NOT NULL, P27T1 INT NOT NULL, P28T1 INT NOT NULL, P29T1 INT NOT NULL, P30T1 INT NOT NULL, P31T1 INT NOT NULL, P32T1 INT NOT NULL, P33T1 INT NOT NULL, P34T1 INT NOT NULL, P35T1 INT NOT NULL, P36T1 INT NOT NULL, P37T1 INT NOT NULL, P38T1 INT NOT NULL, P39T1 INT NOT NULL, P40T1 INT NOT NULL, P41T1 INT NOT NULL, P42T1 INT NOT NULL, P43T1 INT NOT NULL, P44T1 INT NOT NULL, P45T1 INT NOT NULL, P46T1 INT NOT NULL, P47T1 INT NOT NULL, P48T1 INT NOT NULL, P49T1 INT NOT NULL, P50T1 INT NOT NULL, P51T1 INT NOT NULL, P52T1 INT NOT NULL, P53T1 INT NOT NULL, P54T1 INT NOT NULL, P55T1 INT NOT NULL, P56T1 INT NOT NULL, P57T1 INT NOT NULL, P58T1 INT NOT NULL, P59T1 INT NOT NULL, P60T1 INT NOT NULL, P61T1 INT NOT NULL, P62T1 INT NOT NULL, P63T1 INT NOT NULL, P64T1 INT NOT NULL, P65T1 INT NOT NULL, P66T1 INT NOT NULL, P67T1 INT NOT NULL, P68T1 INT NOT NULL, P69T1 INT NOT NULL, P70T1 INT NOT NULL, P71T1 INT NOT NULL, P72T1 INT NOT NULL, P73T1 INT NOT NULL, P74T1 INT NOT NULL, P75T1 INT NOT NULL, P76T1 INT NOT NULL, P77T1 INT NOT NULL, P78T1 INT NOT NULL, P79T1 INT NOT NULL, P80T1 INT NOT NULL, P81T1 INT NOT NULL, P82T1 INT NOT NULL, P83T1 INT NOT NULL, P84T1 INT NOT NULL, P85T1 INT NOT NULL, P86T1 INT NOT NULL, P87T1 INT NOT NULL, P88T1 INT NOT NULL, P89T1 INT NOT NULL, P90T1 INT NOT NULL, P91T1 INT NOT NULL, P92T1 INT NOT NULL, P93T1 INT NOT NULL, P94T1 INT NOT NULL, P95T1 INT NOT NULL, P96T1 INT NOT NULL, P97T1 INT NOT NULL, P98T1 INT NOT NULL, P99T1 INT NOT NULL, P100T1 INT NOT NULL\n",
      "P1T2 INT NOT NULL, P2T2 INT NOT NULL, P3T2 INT NOT NULL, P4T2 INT NOT NULL, P5T2 INT NOT NULL, P6T2 INT NOT NULL, P7T2 INT NOT NULL, P8T2 INT NOT NULL, P9T2 INT NOT NULL, P10T2 INT NOT NULL, P11T2 INT NOT NULL, P12T2 INT NOT NULL, P13T2 INT NOT NULL, P14T2 INT NOT NULL, P15T2 INT NOT NULL, P16T2 INT NOT NULL, P17T2 INT NOT NULL, P18T2 INT NOT NULL, P19T2 INT NOT NULL, P20T2 INT NOT NULL, P21T2 INT NOT NULL, P22T2 INT NOT NULL, P23T2 INT NOT NULL, P24T2 INT NOT NULL, P25T2 INT NOT NULL, P26T2 INT NOT NULL, P27T2 INT NOT NULL, P28T2 INT NOT NULL, P29T2 INT NOT NULL, P30T2 INT NOT NULL, P31T2 INT NOT NULL, P32T2 INT NOT NULL, P33T2 INT NOT NULL, P34T2 INT NOT NULL, P35T2 INT NOT NULL, P36T2 INT NOT NULL, P37T2 INT NOT NULL, P38T2 INT NOT NULL, P39T2 INT NOT NULL, P40T2 INT NOT NULL, P41T2 INT NOT NULL, P42T2 INT NOT NULL, P43T2 INT NOT NULL, P44T2 INT NOT NULL, P45T2 INT NOT NULL, P46T2 INT NOT NULL, P47T2 INT NOT NULL, P48T2 INT NOT NULL, P49T2 INT NOT NULL, P50T2 INT NOT NULL, P51T2 INT NOT NULL, P52T2 INT NOT NULL, P53T2 INT NOT NULL, P54T2 INT NOT NULL, P55T2 INT NOT NULL, P56T2 INT NOT NULL, P57T2 INT NOT NULL, P58T2 INT NOT NULL, P59T2 INT NOT NULL, P60T2 INT NOT NULL, P61T2 INT NOT NULL, P62T2 INT NOT NULL, P63T2 INT NOT NULL, P64T2 INT NOT NULL, P65T2 INT NOT NULL, P66T2 INT NOT NULL, P67T2 INT NOT NULL, P68T2 INT NOT NULL, P69T2 INT NOT NULL, P70T2 INT NOT NULL, P71T2 INT NOT NULL, P72T2 INT NOT NULL, P73T2 INT NOT NULL, P74T2 INT NOT NULL, P75T2 INT NOT NULL, P76T2 INT NOT NULL, P77T2 INT NOT NULL, P78T2 INT NOT NULL, P79T2 INT NOT NULL, P80T2 INT NOT NULL, P81T2 INT NOT NULL, P82T2 INT NOT NULL, P83T2 INT NOT NULL, P84T2 INT NOT NULL, P85T2 INT NOT NULL, P86T2 INT NOT NULL, P87T2 INT NOT NULL, P88T2 INT NOT NULL, P89T2 INT NOT NULL, P90T2 INT NOT NULL, P91T2 INT NOT NULL, P92T2 INT NOT NULL, P93T2 INT NOT NULL, P94T2 INT NOT NULL, P95T2 INT NOT NULL, P96T2 INT NOT NULL, P97T2 INT NOT NULL, P98T2 INT NOT NULL, P99T2 INT NOT NULL, P100T2 INT NOT NULL\n",
      "P1T3 INT NOT NULL, P2T3 INT NOT NULL, P3T3 INT NOT NULL, P4T3 INT NOT NULL, P5T3 INT NOT NULL, P6T3 INT NOT NULL, P7T3 INT NOT NULL, P8T3 INT NOT NULL, P9T3 INT NOT NULL, P10T3 INT NOT NULL, P11T3 INT NOT NULL, P12T3 INT NOT NULL, P13T3 INT NOT NULL, P14T3 INT NOT NULL, P15T3 INT NOT NULL, P16T3 INT NOT NULL, P17T3 INT NOT NULL, P18T3 INT NOT NULL, P19T3 INT NOT NULL, P20T3 INT NOT NULL, P21T3 INT NOT NULL, P22T3 INT NOT NULL, P23T3 INT NOT NULL, P24T3 INT NOT NULL, P25T3 INT NOT NULL, P26T3 INT NOT NULL, P27T3 INT NOT NULL, P28T3 INT NOT NULL, P29T3 INT NOT NULL, P30T3 INT NOT NULL, P31T3 INT NOT NULL, P32T3 INT NOT NULL, P33T3 INT NOT NULL, P34T3 INT NOT NULL, P35T3 INT NOT NULL, P36T3 INT NOT NULL, P37T3 INT NOT NULL, P38T3 INT NOT NULL, P39T3 INT NOT NULL, P40T3 INT NOT NULL, P41T3 INT NOT NULL, P42T3 INT NOT NULL, P43T3 INT NOT NULL, P44T3 INT NOT NULL, P45T3 INT NOT NULL, P46T3 INT NOT NULL, P47T3 INT NOT NULL, P48T3 INT NOT NULL, P49T3 INT NOT NULL, P50T3 INT NOT NULL, P51T3 INT NOT NULL, P52T3 INT NOT NULL, P53T3 INT NOT NULL, P54T3 INT NOT NULL, P55T3 INT NOT NULL, P56T3 INT NOT NULL, P57T3 INT NOT NULL, P58T3 INT NOT NULL, P59T3 INT NOT NULL, P60T3 INT NOT NULL, P61T3 INT NOT NULL, P62T3 INT NOT NULL, P63T3 INT NOT NULL, P64T3 INT NOT NULL, P65T3 INT NOT NULL, P66T3 INT NOT NULL, P67T3 INT NOT NULL, P68T3 INT NOT NULL, P69T3 INT NOT NULL, P70T3 INT NOT NULL, P71T3 INT NOT NULL, P72T3 INT NOT NULL, P73T3 INT NOT NULL, P74T3 INT NOT NULL, P75T3 INT NOT NULL, P76T3 INT NOT NULL, P77T3 INT NOT NULL, P78T3 INT NOT NULL, P79T3 INT NOT NULL, P80T3 INT NOT NULL, P81T3 INT NOT NULL, P82T3 INT NOT NULL, P83T3 INT NOT NULL, P84T3 INT NOT NULL, P85T3 INT NOT NULL, P86T3 INT NOT NULL, P87T3 INT NOT NULL, P88T3 INT NOT NULL, P89T3 INT NOT NULL, P90T3 INT NOT NULL, P91T3 INT NOT NULL, P92T3 INT NOT NULL, P93T3 INT NOT NULL, P94T3 INT NOT NULL, P95T3 INT NOT NULL, P96T3 INT NOT NULL, P97T3 INT NOT NULL, P98T3 INT NOT NULL, P99T3 INT NOT NULL, P100T3 INT NOT NULL\n",
      "P1T4 INT NOT NULL, P2T4 INT NOT NULL, P3T4 INT NOT NULL, P4T4 INT NOT NULL, P5T4 INT NOT NULL, P6T4 INT NOT NULL, P7T4 INT NOT NULL, P8T4 INT NOT NULL, P9T4 INT NOT NULL, P10T4 INT NOT NULL, P11T4 INT NOT NULL, P12T4 INT NOT NULL, P13T4 INT NOT NULL, P14T4 INT NOT NULL, P15T4 INT NOT NULL, P16T4 INT NOT NULL, P17T4 INT NOT NULL, P18T4 INT NOT NULL, P19T4 INT NOT NULL, P20T4 INT NOT NULL, P21T4 INT NOT NULL, P22T4 INT NOT NULL, P23T4 INT NOT NULL, P24T4 INT NOT NULL, P25T4 INT NOT NULL, P26T4 INT NOT NULL, P27T4 INT NOT NULL, P28T4 INT NOT NULL, P29T4 INT NOT NULL, P30T4 INT NOT NULL, P31T4 INT NOT NULL, P32T4 INT NOT NULL, P33T4 INT NOT NULL, P34T4 INT NOT NULL, P35T4 INT NOT NULL, P36T4 INT NOT NULL, P37T4 INT NOT NULL, P38T4 INT NOT NULL, P39T4 INT NOT NULL, P40T4 INT NOT NULL, P41T4 INT NOT NULL, P42T4 INT NOT NULL, P43T4 INT NOT NULL, P44T4 INT NOT NULL, P45T4 INT NOT NULL, P46T4 INT NOT NULL, P47T4 INT NOT NULL, P48T4 INT NOT NULL, P49T4 INT NOT NULL, P50T4 INT NOT NULL, P51T4 INT NOT NULL, P52T4 INT NOT NULL, P53T4 INT NOT NULL, P54T4 INT NOT NULL, P55T4 INT NOT NULL, P56T4 INT NOT NULL, P57T4 INT NOT NULL, P58T4 INT NOT NULL, P59T4 INT NOT NULL, P60T4 INT NOT NULL, P61T4 INT NOT NULL, P62T4 INT NOT NULL, P63T4 INT NOT NULL, P64T4 INT NOT NULL, P65T4 INT NOT NULL, P66T4 INT NOT NULL, P67T4 INT NOT NULL, P68T4 INT NOT NULL, P69T4 INT NOT NULL, P70T4 INT NOT NULL, P71T4 INT NOT NULL, P72T4 INT NOT NULL, P73T4 INT NOT NULL, P74T4 INT NOT NULL, P75T4 INT NOT NULL, P76T4 INT NOT NULL, P77T4 INT NOT NULL, P78T4 INT NOT NULL, P79T4 INT NOT NULL, P80T4 INT NOT NULL, P81T4 INT NOT NULL, P82T4 INT NOT NULL, P83T4 INT NOT NULL, P84T4 INT NOT NULL, P85T4 INT NOT NULL, P86T4 INT NOT NULL, P87T4 INT NOT NULL, P88T4 INT NOT NULL, P89T4 INT NOT NULL, P90T4 INT NOT NULL, P91T4 INT NOT NULL, P92T4 INT NOT NULL, P93T4 INT NOT NULL, P94T4 INT NOT NULL, P95T4 INT NOT NULL, P96T4 INT NOT NULL, P97T4 INT NOT NULL, P98T4 INT NOT NULL, P99T4 INT NOT NULL, P100T4 INT NOT NULL\n",
      "P1T5 INT NOT NULL, P2T5 INT NOT NULL, P3T5 INT NOT NULL, P4T5 INT NOT NULL, P5T5 INT NOT NULL, P6T5 INT NOT NULL, P7T5 INT NOT NULL, P8T5 INT NOT NULL, P9T5 INT NOT NULL, P10T5 INT NOT NULL, P11T5 INT NOT NULL, P12T5 INT NOT NULL, P13T5 INT NOT NULL, P14T5 INT NOT NULL, P15T5 INT NOT NULL, P16T5 INT NOT NULL, P17T5 INT NOT NULL, P18T5 INT NOT NULL, P19T5 INT NOT NULL, P20T5 INT NOT NULL, P21T5 INT NOT NULL, P22T5 INT NOT NULL, P23T5 INT NOT NULL, P24T5 INT NOT NULL, P25T5 INT NOT NULL, P26T5 INT NOT NULL, P27T5 INT NOT NULL, P28T5 INT NOT NULL, P29T5 INT NOT NULL, P30T5 INT NOT NULL, P31T5 INT NOT NULL, P32T5 INT NOT NULL, P33T5 INT NOT NULL, P34T5 INT NOT NULL, P35T5 INT NOT NULL, P36T5 INT NOT NULL, P37T5 INT NOT NULL, P38T5 INT NOT NULL, P39T5 INT NOT NULL, P40T5 INT NOT NULL, P41T5 INT NOT NULL, P42T5 INT NOT NULL, P43T5 INT NOT NULL, P44T5 INT NOT NULL, P45T5 INT NOT NULL, P46T5 INT NOT NULL, P47T5 INT NOT NULL, P48T5 INT NOT NULL, P49T5 INT NOT NULL, P50T5 INT NOT NULL, P51T5 INT NOT NULL, P52T5 INT NOT NULL, P53T5 INT NOT NULL, P54T5 INT NOT NULL, P55T5 INT NOT NULL, P56T5 INT NOT NULL, P57T5 INT NOT NULL, P58T5 INT NOT NULL, P59T5 INT NOT NULL, P60T5 INT NOT NULL, P61T5 INT NOT NULL, P62T5 INT NOT NULL, P63T5 INT NOT NULL, P64T5 INT NOT NULL, P65T5 INT NOT NULL, P66T5 INT NOT NULL, P67T5 INT NOT NULL, P68T5 INT NOT NULL, P69T5 INT NOT NULL, P70T5 INT NOT NULL, P71T5 INT NOT NULL, P72T5 INT NOT NULL, P73T5 INT NOT NULL, P74T5 INT NOT NULL, P75T5 INT NOT NULL, P76T5 INT NOT NULL, P77T5 INT NOT NULL, P78T5 INT NOT NULL, P79T5 INT NOT NULL, P80T5 INT NOT NULL, P81T5 INT NOT NULL, P82T5 INT NOT NULL, P83T5 INT NOT NULL, P84T5 INT NOT NULL, P85T5 INT NOT NULL, P86T5 INT NOT NULL, P87T5 INT NOT NULL, P88T5 INT NOT NULL, P89T5 INT NOT NULL, P90T5 INT NOT NULL, P91T5 INT NOT NULL, P92T5 INT NOT NULL, P93T5 INT NOT NULL, P94T5 INT NOT NULL, P95T5 INT NOT NULL, P96T5 INT NOT NULL, P97T5 INT NOT NULL, P98T5 INT NOT NULL, P99T5 INT NOT NULL, P100T5 INT NOT NULL\n",
      "P1T6 INT NOT NULL, P2T6 INT NOT NULL, P3T6 INT NOT NULL, P4T6 INT NOT NULL, P5T6 INT NOT NULL, P6T6 INT NOT NULL, P7T6 INT NOT NULL, P8T6 INT NOT NULL, P9T6 INT NOT NULL, P10T6 INT NOT NULL, P11T6 INT NOT NULL, P12T6 INT NOT NULL, P13T6 INT NOT NULL, P14T6 INT NOT NULL, P15T6 INT NOT NULL, P16T6 INT NOT NULL, P17T6 INT NOT NULL, P18T6 INT NOT NULL, P19T6 INT NOT NULL, P20T6 INT NOT NULL, P21T6 INT NOT NULL, P22T6 INT NOT NULL, P23T6 INT NOT NULL, P24T6 INT NOT NULL, P25T6 INT NOT NULL, P26T6 INT NOT NULL, P27T6 INT NOT NULL, P28T6 INT NOT NULL, P29T6 INT NOT NULL, P30T6 INT NOT NULL, P31T6 INT NOT NULL, P32T6 INT NOT NULL, P33T6 INT NOT NULL, P34T6 INT NOT NULL, P35T6 INT NOT NULL, P36T6 INT NOT NULL, P37T6 INT NOT NULL, P38T6 INT NOT NULL, P39T6 INT NOT NULL, P40T6 INT NOT NULL, P41T6 INT NOT NULL, P42T6 INT NOT NULL, P43T6 INT NOT NULL, P44T6 INT NOT NULL, P45T6 INT NOT NULL, P46T6 INT NOT NULL, P47T6 INT NOT NULL, P48T6 INT NOT NULL, P49T6 INT NOT NULL, P50T6 INT NOT NULL, P51T6 INT NOT NULL, P52T6 INT NOT NULL, P53T6 INT NOT NULL, P54T6 INT NOT NULL, P55T6 INT NOT NULL, P56T6 INT NOT NULL, P57T6 INT NOT NULL, P58T6 INT NOT NULL, P59T6 INT NOT NULL, P60T6 INT NOT NULL, P61T6 INT NOT NULL, P62T6 INT NOT NULL, P63T6 INT NOT NULL, P64T6 INT NOT NULL, P65T6 INT NOT NULL, P66T6 INT NOT NULL, P67T6 INT NOT NULL, P68T6 INT NOT NULL, P69T6 INT NOT NULL, P70T6 INT NOT NULL, P71T6 INT NOT NULL, P72T6 INT NOT NULL, P73T6 INT NOT NULL, P74T6 INT NOT NULL, P75T6 INT NOT NULL, P76T6 INT NOT NULL, P77T6 INT NOT NULL, P78T6 INT NOT NULL, P79T6 INT NOT NULL, P80T6 INT NOT NULL, P81T6 INT NOT NULL, P82T6 INT NOT NULL, P83T6 INT NOT NULL, P84T6 INT NOT NULL, P85T6 INT NOT NULL, P86T6 INT NOT NULL, P87T6 INT NOT NULL, P88T6 INT NOT NULL, P89T6 INT NOT NULL, P90T6 INT NOT NULL, P91T6 INT NOT NULL, P92T6 INT NOT NULL, P93T6 INT NOT NULL, P94T6 INT NOT NULL, P95T6 INT NOT NULL, P96T6 INT NOT NULL, P97T6 INT NOT NULL, P98T6 INT NOT NULL, P99T6 INT NOT NULL, P100T6 INT NOT NULL\n",
      "P1T7 INT NOT NULL, P2T7 INT NOT NULL, P3T7 INT NOT NULL, P4T7 INT NOT NULL, P5T7 INT NOT NULL, P6T7 INT NOT NULL, P7T7 INT NOT NULL, P8T7 INT NOT NULL, P9T7 INT NOT NULL, P10T7 INT NOT NULL, P11T7 INT NOT NULL, P12T7 INT NOT NULL, P13T7 INT NOT NULL, P14T7 INT NOT NULL, P15T7 INT NOT NULL, P16T7 INT NOT NULL, P17T7 INT NOT NULL, P18T7 INT NOT NULL, P19T7 INT NOT NULL, P20T7 INT NOT NULL, P21T7 INT NOT NULL, P22T7 INT NOT NULL, P23T7 INT NOT NULL, P24T7 INT NOT NULL, P25T7 INT NOT NULL, P26T7 INT NOT NULL, P27T7 INT NOT NULL, P28T7 INT NOT NULL, P29T7 INT NOT NULL, P30T7 INT NOT NULL, P31T7 INT NOT NULL, P32T7 INT NOT NULL, P33T7 INT NOT NULL, P34T7 INT NOT NULL, P35T7 INT NOT NULL, P36T7 INT NOT NULL, P37T7 INT NOT NULL, P38T7 INT NOT NULL, P39T7 INT NOT NULL, P40T7 INT NOT NULL, P41T7 INT NOT NULL, P42T7 INT NOT NULL, P43T7 INT NOT NULL, P44T7 INT NOT NULL, P45T7 INT NOT NULL, P46T7 INT NOT NULL, P47T7 INT NOT NULL, P48T7 INT NOT NULL, P49T7 INT NOT NULL, P50T7 INT NOT NULL, P51T7 INT NOT NULL, P52T7 INT NOT NULL, P53T7 INT NOT NULL, P54T7 INT NOT NULL, P55T7 INT NOT NULL, P56T7 INT NOT NULL, P57T7 INT NOT NULL, P58T7 INT NOT NULL, P59T7 INT NOT NULL, P60T7 INT NOT NULL, P61T7 INT NOT NULL, P62T7 INT NOT NULL, P63T7 INT NOT NULL, P64T7 INT NOT NULL, P65T7 INT NOT NULL, P66T7 INT NOT NULL, P67T7 INT NOT NULL, P68T7 INT NOT NULL, P69T7 INT NOT NULL, P70T7 INT NOT NULL, P71T7 INT NOT NULL, P72T7 INT NOT NULL, P73T7 INT NOT NULL, P74T7 INT NOT NULL, P75T7 INT NOT NULL, P76T7 INT NOT NULL, P77T7 INT NOT NULL, P78T7 INT NOT NULL, P79T7 INT NOT NULL, P80T7 INT NOT NULL, P81T7 INT NOT NULL, P82T7 INT NOT NULL, P83T7 INT NOT NULL, P84T7 INT NOT NULL, P85T7 INT NOT NULL, P86T7 INT NOT NULL, P87T7 INT NOT NULL, P88T7 INT NOT NULL, P89T7 INT NOT NULL, P90T7 INT NOT NULL, P91T7 INT NOT NULL, P92T7 INT NOT NULL, P93T7 INT NOT NULL, P94T7 INT NOT NULL, P95T7 INT NOT NULL, P96T7 INT NOT NULL, P97T7 INT NOT NULL, P98T7 INT NOT NULL, P99T7 INT NOT NULL, P100T7 INT NOT NULL\n"
     ]
    }
   ],
   "source": [
    "total_lst = []\n",
    "for j in range(8):\n",
    "    columns = [f\"P{i}T{j} INT NOT NULL\" for i in range(start, end + 1)]\n",
    "    column_string = \", \".join(columns)\n",
    "    print(column_string)\n",
    "    total_lst.append(column_string)\n",
    "total_string = \", \".join(total_lst)"
   ]
  },
  {
   "cell_type": "code",
   "execution_count": 41,
   "metadata": {},
   "outputs": [
    {
     "name": "stdout",
     "output_type": "stream",
     "text": [
      "\n",
      "    CREATE TABLE IF NOT EXISTS simulation_data (\n",
      "        combination_id VARCHAR(36),\n",
      "        RunId INT NOT NULL,\n",
      "        iteration INT NOT NULL,\n",
      "        Step INT NOT NULL,\n",
      "        num_tasks INT NOT NULL,\n",
      "        num_nodes INT NOT NULL,\n",
      "        num_new_edges INT NOT NULL,\n",
      "        skills_proportion FLOAT NOT NULL,\n",
      "        prob_memory FLOAT NOT NULL,\n",
      "        availability FLOAT NOT NULL,\n",
      "        P1 INT NOT NULL, P2 INT NOT NULL, P3 INT NOT NULL, P4 INT NOT NULL, P5 INT NOT NULL, P6 INT NOT NULL, P7 INT NOT NULL, P8 INT NOT NULL, P9 INT NOT NULL, P10 INT NOT NULL, P11 INT NOT NULL, P12 INT NOT NULL, P13 INT NOT NULL, P14 INT NOT NULL, P15 INT NOT NULL, P16 INT NOT NULL, P17 INT NOT NULL, P18 INT NOT NULL, P19 INT NOT NULL, P20 INT NOT NULL, P21 INT NOT NULL, P22 INT NOT NULL, P23 INT NOT NULL, P24 INT NOT NULL, P25 INT NOT NULL, P26 INT NOT NULL, P27 INT NOT NULL, P28 INT NOT NULL, P29 INT NOT NULL, P30 INT NOT NULL, P31 INT NOT NULL, P32 INT NOT NULL, P33 INT NOT NULL, P34 INT NOT NULL, P35 INT NOT NULL, P36 INT NOT NULL, P37 INT NOT NULL, P38 INT NOT NULL, P39 INT NOT NULL, P40 INT NOT NULL, P41 INT NOT NULL, P42 INT NOT NULL, P43 INT NOT NULL, P44 INT NOT NULL, P45 INT NOT NULL, P46 INT NOT NULL, P47 INT NOT NULL, P48 INT NOT NULL, P49 INT NOT NULL, P50 INT NOT NULL, P51 INT NOT NULL, P52 INT NOT NULL, P53 INT NOT NULL, P54 INT NOT NULL, P55 INT NOT NULL, P56 INT NOT NULL, P57 INT NOT NULL, P58 INT NOT NULL, P59 INT NOT NULL, P60 INT NOT NULL, P61 INT NOT NULL, P62 INT NOT NULL, P63 INT NOT NULL, P64 INT NOT NULL, P65 INT NOT NULL, P66 INT NOT NULL, P67 INT NOT NULL, P68 INT NOT NULL, P69 INT NOT NULL, P70 INT NOT NULL, P71 INT NOT NULL, P72 INT NOT NULL, P73 INT NOT NULL, P74 INT NOT NULL, P75 INT NOT NULL, P76 INT NOT NULL, P77 INT NOT NULL, P78 INT NOT NULL, P79 INT NOT NULL, P80 INT NOT NULL, P81 INT NOT NULL, P82 INT NOT NULL, P83 INT NOT NULL, P84 INT NOT NULL, P85 INT NOT NULL, P86 INT NOT NULL, P87 INT NOT NULL, P88 INT NOT NULL, P89 INT NOT NULL, P90 INT NOT NULL, P91 INT NOT NULL, P92 INT NOT NULL, P93 INT NOT NULL, P94 INT NOT NULL, P95 INT NOT NULL, P96 INT NOT NULL, P97 INT NOT NULL, P98 INT NOT NULL, P99 INT NOT NULL, P100 INT NOT NULL,\n",
      "        time_lst TEXT NOT NULL,\n",
      "        actor_sequence_lst TEXT NOT NULL,  \n",
      "        PRIMARY KEY (combination_id, RunId)\n"
     ]
    }
   ],
   "source": [
    "print(f\"\"\"\n",
    "    CREATE TABLE IF NOT EXISTS simulation_data (\n",
    "        combination_id VARCHAR(36),\n",
    "        RunId INT NOT NULL,\n",
    "        iteration INT NOT NULL,\n",
    "        Step INT NOT NULL,\n",
    "        num_tasks INT NOT NULL,\n",
    "        num_nodes INT NOT NULL,\n",
    "        num_new_edges INT NOT NULL,\n",
    "        skills_proportion FLOAT NOT NULL,\n",
    "        prob_memory FLOAT NOT NULL,\n",
    "        availability FLOAT NOT NULL,\n",
    "        {column_string},\n",
    "        {total_string},  \n",
    "        PRIMARY KEY (combination_id, RunId)\"\"\")"
   ]
  },
  {
   "cell_type": "code",
   "execution_count": 23,
   "metadata": {},
   "outputs": [],
   "source": [
    "cur.execute(f\"\"\"\n",
    "        CREATE TABLE IF NOT EXISTS simulation_data (\n",
    "        combination_id VARCHAR(36),\n",
    "        RunId INT NOT NULL,\n",
    "        iteration INT NOT NULL,\n",
    "        Step INT NOT NULL,\n",
    "        num_tasks INT NOT NULL,\n",
    "        num_nodes INT NOT NULL,\n",
    "        num_new_edges INT NOT NULL,\n",
    "        skills_proportion FLOAT NOT NULL,\n",
    "        prob_memory FLOAT NOT NULL,\n",
    "        availability FLOAT NOT NULL,\n",
    "        {column_string},\n",
    "        time_lst TEXT NOT NULL,\n",
    "        actor_sequence_lst TEXT NOT NULL,  \n",
    "        PRIMARY KEY (combination_id, RunId)\n",
    "    );\n",
    "\"\"\"\n",
    ")"
   ]
  },
  {
   "cell_type": "code",
   "execution_count": 44,
   "metadata": {},
   "outputs": [],
   "source": [
    "sql_insert_query = \"\"\"\n",
    "INSERT INTO simulation_data \n",
    "    (RunId, iteration, Step, num_tasks, num_nodes, num_new_edges, \n",
    "    skills_proportion, prob_memory, availability, combination_id, \n",
    "    actor_sequence_lst, time_lst) \n",
    "VALUES \n",
    "    (%s, %s, %s, %s, %s, %s, %s, %s, %s, %s, %s, %s)\n",
    "\"\"\"\n",
    "\n",
    "data = {'RunId': 0, 'iteration': 0, 'Step': 100, 'num_tasks': 2, 'num_nodes': 10, 'num_new_edges': 1, 'skills_proportion': 0.1, 'prob_memory': 0.0, 'availablity': 0.1, 'combination_id': 'e9afe102-096f-46e5-966a-26dddd6e68bd', 'actor_sequence_lst': '[{0: 6, 1: 3}, {0: 6, 1: 3}, {0: 6, 1: 3}, {0: 6, 1: 3}, {0: 6, 1: 3}, {0: 6, 1: 3}, {0: 6, 1: 3}, {0: 6, 1: 3}, {0: 6, 1: 3}, {0: 6, 1: 3}, {0: 6, 1: 3}, {0: 6, 1: 3}, {0: 6, 1: 3}, {0: 6, 1: 3}, {0: 6, 1: 3}, {0: 6, 1: 3}, {0: 6, 1: 3}, {0: 6, 1: 3}, {0: 6, 1: 3}, {0: 6, 1: 3}, {0: 6, 1: 3}, {0: 6, 1: 3}, {0: 6, 1: 3}, {0: 6, 1: 3}, {0: 6, 1: 3}, {0: 6, 1: 3}, {0: 6, 1: 3}, {0: 6, 1: 3}, {0: 6, 1: 3}, {0: 6, 1: 3}, {0: 6, 1: 3}, {0: 6, 1: 3}, {0: 6, 1: 3}, {0: 6, 1: 3}, {0: 6, 1: 3}, {0: 6, 1: 3}, {0: 6, 1: 3}, {0: 6, 1: 3}, {0: 6, 1: 3}, {0: 6, 1: 3}, {0: 6, 1: 3}, {0: 6, 1: 3}, {0: 6, 1: 3}, {0: 6, 1: 3}, {0: 6, 1: 3}, {0: 6, 1: 3}, {0: 6, 1: 3}, {0: 6, 1: 3}, {0: 6, 1: 3}, {0: 6, 1: 3}, {0: 6, 1: 3}, {0: 6, 1: 3}, {0: 6, 1: 3}, {0: 6, 1: 3}, {0: 6, 1: 3}, {0: 6, 1: 3}, {0: 6, 1: 3}, {0: 6, 1: 3}, {0: 6, 1: 3}, {0: 6, 1: 3}, {0: 6, 1: 3}, {0: 6, 1: 3}, {0: 6, 1: 3}, {0: 6, 1: 3}, {0: 6, 1: 3}, {0: 6, 1: 3}, {0: 6, 1: 3}, {0: 6, 1: 3}, {0: 6, 1: 3}, {0: 6, 1: 3}, {0: 6, 1: 3}, {0: 6, 1: 3}, {0: 6, 1: 3}, {0: 6, 1: 3}, {0: 6, 1: 3}, {0: 6, 1: 3}, {0: 6, 1: 3}, {0: 6, 1: 3}, {0: 6, 1: 3}, {0: 6, 1: 3}, {0: 6, 1: 3}, {0: 6, 1: 3}, {0: 6, 1: 3}, {0: 6, 1: 3}, {0: 6, 1: 3}, {0: 6, 1: 3}, {0: 6, 1: 3}, {0: 6, 1: 3}, {0: 6, 1: 3}, {0: 6, 1: 3}, {0: 6, 1: 3}, {0: 6, 1: 3}, {0: 6, 1: 3}, {0: 6, 1: 3}, {0: 6, 1: 3}, {0: 6, 1: 3}, {0: 6, 1: 3}, {0: 6, 1: 3}, {0: 6, 1: 3}, {0: 6, 1: 3}, {0: 6, 1: 3}]', 'time_lst': '[75, 38, 38, 41, 51, 47, 35, 40, 47, 37, 44, 65, 30, 52, 53, 39, 76, 28, 49, 43, 52, 23, 69, 41, 61, 39, 57, 30, 36, 33, 51, 51, 36, 48, 25, 37, 87, 55, 37, 24, 47, 59, 28, 29, 40, 42, 35, 55, 51, 39, 35, 39, 30, 35, 61, 32, 46, 28, 40, 37, 31, 57, 41, 44, 59, 34, 34, 37, 73, 37, 37, 18, 44, 37, 27, 33, 46, 19, 34, 19, 122, 36, 28, 48, 41, 40, 29, 55, 33, 41, 32, 43, 40, 38, 57, 31, 27, 32, 18, 31, 62]'}\n",
    "\n",
    "cur.execute(sql_insert_query, tuple(data.values()))"
   ]
  },
  {
   "cell_type": "code",
   "execution_count": 58,
   "metadata": {},
   "outputs": [],
   "source": [
    "cur.reset()"
   ]
  },
  {
   "cell_type": "code",
   "execution_count": 20,
   "metadata": {},
   "outputs": [],
   "source": [
    "cur.execute(\"DROP TABLE simulation_data;\")"
   ]
  },
  {
   "cell_type": "code",
   "execution_count": 38,
   "metadata": {},
   "outputs": [
    {
     "name": "stdout",
     "output_type": "stream",
     "text": [
      "[('03475b04-f841-4f90-aee5-293c831fde38', 1, 0, 100, 8, 20, 2, 0.1, 0.5, 0.5, '[118, 63, 41, 45, 49, 49, 37, 41, 50, 47, 42, 39, 36, 46, 38, 41, 36, 41, 36, 37, 40, 36, 39, 42, 41, 52, 41, 38, 44, 41, 38, 42, 41, 38, 41, 58, 42, 40, 36, 36, 45, 42, 36, 37, 49, 44, 43, 44, 39, 43, 38, 36, 40, 42, 48, 44, 39, 36, 34, 39, 36, 44, 38, 41, 38, 51, 40, 35, 47, 43, 43, 42, 36, 42, 40, 46, 52, 33, 40, 43, 34, 41, 38, 42, 40, 41, 44, 37, 39, 43, 43, 38, 43, 40, 37, 46, 44, 41, 40, 48, 40]', '[{0: 4, 1: 9, 2: 6, 3: 10, 4: 15, 5: 15, 6: 11, 7: 11}, {0: 4, 1: 9, 2: 6, 3: 10, 4: 15, 5: 15, 6: 11, 7: 11}, {0: 4, 1: 9, 2: 6, 3: 10, 4: 15, 5: 15, 6: 11, 7: 11}, {0: 4, 1: 9, 2: 6, 3: 10, 4: 15, 5: 15, 6: 11, 7: 11}, {0: 4, 1: 7, 2: 6, 3: 10, 4: 15, 5: 15, 6: 11, 7: 11}, {0: 4, 1: 7, 2: 6, 3: 10, 4: 15, 5: 15, 6: 11, 7: 11}, {0: 4, 1: 7, 2: 6, 3: 10, 4: 15, 5: 15, 6: 11, 7: 11}, {0: 4, 1: 7, 2: 6, 3: 10, 4: 15, 5: 15, 6: 11, 7: 11}, {0: 4, 1: 7, 2: 6, 3: 10, 4: 15, 5: 15, 6: 11, 7: 11}, {0: 4, 1: 7, 2: 6, 3: 10, 4: 15, 5: 15, 6: 11, 7: 11}, {0: 4, 1: 7, 2: 6, 3: 10, 4: 15, 5: 15, 6: 11, 7: 11}, {0: 4, 1: 7, 2: 6, 3: 10, 4: 15, 5: 15, 6: 11, 7: 11}, {0: 4, 1: 7, 2: 6, 3: 10, 4: 15, 5: 15, 6: 11, 7: 11}, {0: 4, 1: 7, 2: 6, 3: 10, 4: 15, 5: 15, 6: 11, 7: 11}, {0: 4, 1: 7, 2: 6, 3: 10, 4: 15, 5: 15, 6: 11, 7: 11}, {0: 4, 1: 7, 2: 6, 3: 10, 4: 15, 5: 15, 6: 11, 7: 11}, {0: 4, 1: 7, 2: 6, 3: 10, 4: 15, 5: 15, 6: 11, 7: 11}, {0: 4, 1: 7, 2: 6, 3: 10, 4: 15, 5: 15, 6: 11, 7: 11}, {0: 4, 1: 7, 2: 6, 3: 10, 4: 15, 5: 15, 6: 11, 7: 11}, {0: 4, 1: 7, 2: 6, 3: 10, 4: 15, 5: 15, 6: 11, 7: 11}, {0: 7, 1: 7, 2: 6, 3: 10, 4: 15, 5: 15, 6: 11, 7: 11}, {0: 4, 1: 7, 2: 6, 3: 10, 4: 15, 5: 15, 6: 11, 7: 11}, {0: 4, 1: 7, 2: 6, 3: 10, 4: 15, 5: 15, 6: 11, 7: 11}, {0: 4, 1: 7, 2: 6, 3: 10, 4: 15, 5: 15, 6: 11, 7: 11}, {0: 4, 1: 7, 2: 6, 3: 10, 4: 15, 5: 15, 6: 11, 7: 11}, {0: 4, 1: 7, 2: 6, 3: 10, 4: 15, 5: 15, 6: 11, 7: 11}, {0: 4, 1: 7, 2: 6, 3: 10, 4: 15, 5: 15, 6: 11, 7: 11}, {0: 4, 1: 7, 2: 6, 3: 10, 4: 15, 5: 15, 6: 11, 7: 11}, {0: 4, 1: 7, 2: 6, 3: 10, 4: 15, 5: 15, 6: 11, 7: 11}, {0: 4, 1: 7, 2: 6, 3: 10, 4: 15, 5: 15, 6: 11, 7: 11}, {0: 4, 1: 7, 2: 6, 3: 10, 4: 15, 5: 15, 6: 11, 7: 11}, {0: 4, 1: 7, 2: 6, 3: 10, 4: 15, 5: 15, 6: 11, 7: 11}, {0: 4, 1: 7, 2: 6, 3: 10, 4: 15, 5: 15, 6: 11, 7: 11}, {0: 4, 1: 7, 2: 6, 3: 10, 4: 15, 5: 15, 6: 11, 7: 11}, {0: 4, 1: 7, 2: 6, 3: 10, 4: 15, 5: 15, 6: 11, 7: 11}, {0: 4, 1: 7, 2: 6, 3: 10, 4: 15, 5: 15, 6: 11, 7: 11}, {0: 4, 1: 7, 2: 6, 3: 10, 4: 15, 5: 15, 6: 11, 7: 11}, {0: 7, 1: 7, 2: 6, 3: 10, 4: 15, 5: 15, 6: 11, 7: 11}, {0: 4, 1: 7, 2: 6, 3: 10, 4: 15, 5: 15, 6: 11, 7: 11}, {0: 4, 1: 7, 2: 6, 3: 10, 4: 15, 5: 15, 6: 11, 7: 11}, {0: 7, 1: 7, 2: 6, 3: 10, 4: 15, 5: 15, 6: 11, 7: 11}, {0: 4, 1: 7, 2: 6, 3: 10, 4: 15, 5: 15, 6: 11, 7: 11}, {0: 4, 1: 7, 2: 6, 3: 10, 4: 15, 5: 15, 6: 11, 7: 11}, {0: 4, 1: 7, 2: 6, 3: 10, 4: 15, 5: 15, 6: 11, 7: 11}, {0: 7, 1: 7, 2: 6, 3: 10, 4: 15, 5: 15, 6: 11, 7: 11}, {0: 4, 1: 7, 2: 6, 3: 10, 4: 15, 5: 15, 6: 11, 7: 11}, {0: 4, 1: 7, 2: 6, 3: 10, 4: 15, 5: 15, 6: 11, 7: 11}, {0: 4, 1: 7, 2: 6, 3: 10, 4: 15, 5: 15, 6: 11, 7: 11}, {0: 4, 1: 7, 2: 6, 3: 10, 4: 15, 5: 15, 6: 11, 7: 11}, {0: 4, 1: 7, 2: 6, 3: 10, 4: 15, 5: 15, 6: 11, 7: 11}, {0: 4, 1: 7, 2: 6, 3: 10, 4: 15, 5: 15, 6: 11, 7: 11}, {0: 4, 1: 7, 2: 6, 3: 10, 4: 15, 5: 15, 6: 11, 7: 11}, {0: 4, 1: 7, 2: 6, 3: 10, 4: 15, 5: 15, 6: 11, 7: 11}, {0: 4, 1: 7, 2: 6, 3: 10, 4: 15, 5: 15, 6: 11, 7: 11}, {0: 7, 1: 7, 2: 6, 3: 10, 4: 15, 5: 15, 6: 11, 7: 11}, {0: 4, 1: 7, 2: 6, 3: 10, 4: 15, 5: 15, 6: 11, 7: 11}, {0: 4, 1: 7, 2: 6, 3: 10, 4: 15, 5: 15, 6: 11, 7: 11}, {0: 4, 1: 7, 2: 6, 3: 10, 4: 15, 5: 15, 6: 11, 7: 11}, {0: 4, 1: 7, 2: 6, 3: 10, 4: 15, 5: 15, 6: 11, 7: 11}, {0: 4, 1: 7, 2: 6, 3: 10, 4: 15, 5: 15, 6: 11, 7: 11}, {0: 4, 1: 7, 2: 6, 3: 10, 4: 15, 5: 15, 6: 11, 7: 11}, {0: 4, 1: 7, 2: 6, 3: 10, 4: 15, 5: 15, 6: 11, 7: 11}, {0: 4, 1: 7, 2: 6, 3: 10, 4: 15, 5: 15, 6: 11, 7: 11}, {0: 4, 1: 7, 2: 6, 3: 10, 4: 15, 5: 15, 6: 11, 7: 11}, {0: 4, 1: 7, 2: 6, 3: 10, 4: 15, 5: 15, 6: 11, 7: 11}, {0: 4, 1: 7, 2: 6, 3: 10, 4: 15, 5: 15, 6: 11, 7: 11}, {0: 4, 1: 7, 2: 6, 3: 10, 4: 15, 5: 15, 6: 11, 7: 11}, {0: 4, 1: 7, 2: 6, 3: 10, 4: 15, 5: 15, 6: 11, 7: 11}, {0: 4, 1: 7, 2: 6, 3: 10, 4: 15, 5: 15, 6: 11, 7: 11}, {0: 4, 1: 7, 2: 6, 3: 10, 4: 15, 5: 15, 6: 11, 7: 11}, {0: 4, 1: 7, 2: 6, 3: 10, 4: 15, 5: 15, 6: 11, 7: 11}, {0: 4, 1: 7, 2: 6, 3: 10, 4: 15, 5: 15, 6: 11, 7: 11}, {0: 4, 1: 7, 2: 6, 3: 10, 4: 15, 5: 15, 6: 11, 7: 11}, {0: 4, 1: 7, 2: 6, 3: 10, 4: 15, 5: 15, 6: 11, 7: 11}, {0: 4, 1: 7, 2: 6, 3: 10, 4: 15, 5: 15, 6: 11, 7: 11}, {0: 7, 1: 7, 2: 6, 3: 10, 4: 15, 5: 15, 6: 11, 7: 11}, {0: 4, 1: 7, 2: 6, 3: 10, 4: 15, 5: 15, 6: 11, 7: 11}, {0: 4, 1: 7, 2: 6, 3: 10, 4: 15, 5: 15, 6: 11, 7: 11}, {0: 4, 1: 7, 2: 6, 3: 10, 4: 15, 5: 15, 6: 11, 7: 11}, {0: 4, 1: 7, 2: 6, 3: 10, 4: 15, 5: 15, 6: 11, 7: 11}, {0: 4, 1: 7, 2: 6, 3: 10, 4: 15, 5: 15, 6: 11, 7: 11}, {0: 4, 1: 7, 2: 6, 3: 10, 4: 15, 5: 15, 6: 11, 7: 11}, {0: 4, 1: 7, 2: 6, 3: 10, 4: 15, 5: 15, 6: 11, 7: 11}, {0: 4, 1: 7, 2: 6, 3: 10, 4: 15, 5: 15, 6: 11, 7: 11}, {0: 4, 1: 7, 2: 6, 3: 10, 4: 15, 5: 15, 6: 11, 7: 11}, {0: 4, 1: 7, 2: 6, 3: 10, 4: 15, 5: 15, 6: 11, 7: 11}, {0: 4, 1: 7, 2: 6, 3: 10, 4: 15, 5: 15, 6: 11, 7: 11}, {0: 7, 1: 7, 2: 6, 3: 10, 4: 15, 5: 15, 6: 11, 7: 11}, {0: 7, 1: 7, 2: 6, 3: 10, 4: 15, 5: 15, 6: 11, 7: 11}, {0: 4, 1: 7, 2: 6, 3: 10, 4: 15, 5: 15, 6: 11, 7: 11}, {0: 4, 1: 7, 2: 6, 3: 10, 4: 15, 5: 15, 6: 11, 7: 11}, {0: 4, 1: 7, 2: 6, 3: 10, 4: 15, 5: 15, 6: 11, 7: 11}, {0: 4, 1: 7, 2: 6, 3: 10, 4: 15, 5: 15, 6: 11, 7: 11}, {0: 4, 1: 7, 2: 6, 3: 10, 4: 15, 5: 15, 6: 11, 7: 11}, {0: 4, 1: 7, 2: 6, 3: 10, 4: 15, 5: 15, 6: 11, 7: 11}, {0: 4, 1: 7, 2: 6, 3: 10, 4: 15, 5: 15, 6: 11, 7: 11}, {0: 4, 1: 7, 2: 6, 3: 10, 4: 15, 5: 15, 6: 11, 7: 11}, {0: 4, 1: 7, 2: 6, 3: 10, 4: 15, 5: 15, 6: 11, 7: 11}, {0: 4, 1: 7, 2: 6, 3: 10, 4: 15, 5: 15, 6: 11, 7: 11}, {0: 4, 1: 7, 2: 6, 3: 10, 4: 15, 5: 15, 6: 11, 7: 11}, {0: 4, 1: 7, 2: 6, 3: 10, 4: 15, 5: 15, 6: 11, 7: 11}]'), ('03475b04-f841-4f90-aee5-293c831fde38', 3, 1, 100, 8, 20, 2, 0.1, 0.5, 0.5, '[104, 68, 59, 42, 57, 49, 60, 46, 51, 38, 42, 60, 46, 39, 45, 55, 49, 39, 53, 41, 50, 41, 43, 39, 52, 36, 38, 41, 42, 40, 41, 45, 51, 42, 41, 41, 44, 41, 41, 50, 43, 52, 49, 52, 44, 49, 45, 41, 46, 36, 38, 46, 51, 41, 42, 39, 37, 57, 37, 46, 42, 49, 47, 36, 36, 53, 40, 40, 44, 40, 51, 40, 65, 37, 34, 46, 39, 49, 54, 42, 42, 36, 41, 41, 39, 35, 47, 38, 41, 41, 45, 35, 42, 38, 37, 41, 37, 36, 42, 39, 55]', '[{0: 12, 1: 14, 2: 7, 3: 7, 4: 6, 5: 0, 6: 2, 7: 11}, {0: 15, 1: 14, 2: 7, 3: 7, 4: 6, 5: 0, 6: 2, 7: 11}, {0: 15, 1: 14, 2: 7, 3: 7, 4: 6, 5: 0, 6: 2, 7: 11}, {0: 15, 1: 14, 2: 7, 3: 7, 4: 6, 5: 0, 6: 2, 7: 11}, {0: 15, 1: 14, 2: 7, 3: 7, 4: 6, 5: 0, 6: 2, 7: 11}, {0: 15, 1: 14, 2: 7, 3: 7, 4: 6, 5: 0, 6: 2, 7: 11}, {0: 15, 1: 14, 2: 7, 3: 7, 4: 6, 5: 0, 6: 2, 7: 11}, {0: 15, 1: 14, 2: 7, 3: 7, 4: 6, 5: 0, 6: 2, 7: 11}, {0: 12, 1: 14, 2: 7, 3: 7, 4: 6, 5: 0, 6: 2, 7: 11}, {0: 15, 1: 14, 2: 7, 3: 7, 4: 6, 5: 0, 6: 2, 7: 11}, {0: 15, 1: 14, 2: 7, 3: 7, 4: 6, 5: 0, 6: 2, 7: 11}, {0: 15, 1: 14, 2: 7, 3: 7, 4: 6, 5: 0, 6: 2, 7: 11}, {0: 15, 1: 14, 2: 7, 3: 7, 4: 6, 5: 0, 6: 2, 7: 11}, {0: 15, 1: 14, 2: 7, 3: 7, 4: 6, 5: 0, 6: 2, 7: 11}, {0: 15, 1: 14, 2: 7, 3: 7, 4: 6, 5: 0, 6: 2, 7: 11}, {0: 12, 1: 14, 2: 7, 3: 7, 4: 6, 5: 0, 6: 2, 7: 11}, {0: 15, 1: 14, 2: 7, 3: 7, 4: 6, 5: 0, 6: 2, 7: 11}, {0: 15, 1: 14, 2: 7, 3: 7, 4: 6, 5: 0, 6: 2, 7: 11}, {0: 15, 1: 14, 2: 7, 3: 7, 4: 6, 5: 0, 6: 2, 7: 11}, {0: 15, 1: 14, 2: 7, 3: 7, 4: 6, 5: 0, 6: 2, 7: 11}, {0: 15, 1: 14, 2: 7, 3: 7, 4: 6, 5: 0, 6: 2, 7: 11}, {0: 15, 1: 14, 2: 7, 3: 7, 4: 6, 5: 0, 6: 2, 7: 11}, {0: 12, 1: 14, 2: 7, 3: 7, 4: 6, 5: 0, 6: 2, 7: 11}, {0: 15, 1: 14, 2: 7, 3: 7, 4: 6, 5: 0, 6: 2, 7: 11}, {0: 15, 1: 14, 2: 7, 3: 7, 4: 6, 5: 0, 6: 2, 7: 11}, {0: 12, 1: 14, 2: 7, 3: 7, 4: 6, 5: 0, 6: 2, 7: 11}, {0: 12, 1: 14, 2: 7, 3: 7, 4: 6, 5: 0, 6: 2, 7: 11}, {0: 12, 1: 14, 2: 7, 3: 7, 4: 6, 5: 0, 6: 2, 7: 11}, {0: 15, 1: 14, 2: 7, 3: 7, 4: 6, 5: 0, 6: 2, 7: 11}, {0: 15, 1: 14, 2: 7, 3: 7, 4: 6, 5: 0, 6: 2, 7: 11}, {0: 12, 1: 14, 2: 7, 3: 7, 4: 6, 5: 0, 6: 2, 7: 11}, {0: 15, 1: 14, 2: 7, 3: 7, 4: 6, 5: 0, 6: 2, 7: 11}, {0: 15, 1: 14, 2: 7, 3: 7, 4: 6, 5: 0, 6: 2, 7: 11}, {0: 15, 1: 14, 2: 7, 3: 7, 4: 6, 5: 0, 6: 2, 7: 11}, {0: 15, 1: 14, 2: 7, 3: 7, 4: 6, 5: 0, 6: 2, 7: 11}, {0: 15, 1: 14, 2: 7, 3: 7, 4: 6, 5: 0, 6: 2, 7: 11}, {0: 15, 1: 14, 2: 7, 3: 7, 4: 6, 5: 0, 6: 2, 7: 11}, {0: 12, 1: 14, 2: 7, 3: 7, 4: 6, 5: 0, 6: 2, 7: 11}, {0: 15, 1: 14, 2: 7, 3: 7, 4: 6, 5: 0, 6: 2, 7: 11}, {0: 15, 1: 14, 2: 7, 3: 7, 4: 6, 5: 0, 6: 2, 7: 11}, {0: 15, 1: 14, 2: 7, 3: 7, 4: 6, 5: 0, 6: 2, 7: 11}, {0: 12, 1: 14, 2: 7, 3: 7, 4: 6, 5: 0, 6: 2, 7: 11}, {0: 15, 1: 14, 2: 7, 3: 7, 4: 6, 5: 0, 6: 2, 7: 11}, {0: 12, 1: 14, 2: 7, 3: 7, 4: 6, 5: 0, 6: 2, 7: 11}, {0: 12, 1: 14, 2: 7, 3: 7, 4: 6, 5: 0, 6: 2, 7: 11}, {0: 15, 1: 14, 2: 7, 3: 7, 4: 6, 5: 0, 6: 2, 7: 11}, {0: 12, 1: 14, 2: 7, 3: 7, 4: 6, 5: 0, 6: 2, 7: 11}, {0: 15, 1: 14, 2: 7, 3: 7, 4: 6, 5: 0, 6: 2, 7: 11}, {0: 15, 1: 14, 2: 7, 3: 7, 4: 6, 5: 0, 6: 2, 7: 11}, {0: 12, 1: 14, 2: 7, 3: 7, 4: 6, 5: 0, 6: 2, 7: 11}, {0: 12, 1: 14, 2: 7, 3: 7, 4: 6, 5: 0, 6: 2, 7: 11}, {0: 12, 1: 14, 2: 7, 3: 7, 4: 6, 5: 0, 6: 2, 7: 11}, {0: 15, 1: 14, 2: 7, 3: 7, 4: 6, 5: 0, 6: 2, 7: 11}, {0: 12, 1: 14, 2: 7, 3: 7, 4: 6, 5: 0, 6: 2, 7: 11}, {0: 15, 1: 14, 2: 7, 3: 7, 4: 6, 5: 0, 6: 2, 7: 11}, {0: 15, 1: 14, 2: 7, 3: 7, 4: 6, 5: 0, 6: 2, 7: 11}, {0: 12, 1: 14, 2: 7, 3: 7, 4: 6, 5: 0, 6: 2, 7: 11}, {0: 15, 1: 14, 2: 7, 3: 7, 4: 6, 5: 0, 6: 2, 7: 11}, {0: 15, 1: 14, 2: 7, 3: 7, 4: 6, 5: 0, 6: 2, 7: 11}, {0: 12, 1: 14, 2: 7, 3: 7, 4: 6, 5: 0, 6: 2, 7: 11}, {0: 15, 1: 14, 2: 7, 3: 7, 4: 6, 5: 0, 6: 2, 7: 11}, {0: 12, 1: 14, 2: 7, 3: 7, 4: 6, 5: 0, 6: 2, 7: 11}, {0: 15, 1: 14, 2: 7, 3: 7, 4: 6, 5: 0, 6: 2, 7: 11}, {0: 15, 1: 14, 2: 7, 3: 7, 4: 6, 5: 0, 6: 2, 7: 11}, {0: 15, 1: 14, 2: 7, 3: 7, 4: 6, 5: 0, 6: 2, 7: 11}, {0: 15, 1: 14, 2: 7, 3: 7, 4: 6, 5: 0, 6: 2, 7: 11}, {0: 12, 1: 14, 2: 7, 3: 7, 4: 6, 5: 0, 6: 2, 7: 11}, {0: 12, 1: 14, 2: 7, 3: 7, 4: 6, 5: 0, 6: 2, 7: 11}, {0: 12, 1: 14, 2: 7, 3: 7, 4: 6, 5: 0, 6: 2, 7: 11}, {0: 12, 1: 14, 2: 7, 3: 7, 4: 6, 5: 0, 6: 2, 7: 11}, {0: 15, 1: 14, 2: 7, 3: 7, 4: 6, 5: 0, 6: 2, 7: 11}, {0: 15, 1: 14, 2: 7, 3: 7, 4: 6, 5: 0, 6: 2, 7: 11}, {0: 15, 1: 19, 2: 7, 3: 7, 4: 6, 5: 0, 6: 2, 7: 11}, {0: 12, 1: 14, 2: 7, 3: 7, 4: 6, 5: 0, 6: 2, 7: 11}, {0: 12, 1: 14, 2: 7, 3: 7, 4: 6, 5: 0, 6: 2, 7: 11}, {0: 15, 1: 19, 2: 7, 3: 7, 4: 6, 5: 0, 6: 2, 7: 11}, {0: 12, 1: 14, 2: 7, 3: 7, 4: 6, 5: 0, 6: 2, 7: 11}, {0: 15, 1: 19, 2: 7, 3: 7, 4: 6, 5: 0, 6: 2, 7: 11}, {0: 12, 1: 14, 2: 7, 3: 7, 4: 6, 5: 0, 6: 2, 7: 11}, {0: 15, 1: 19, 2: 7, 3: 7, 4: 6, 5: 0, 6: 2, 7: 11}, {0: 12, 1: 14, 2: 7, 3: 7, 4: 6, 5: 0, 6: 2, 7: 11}, {0: 15, 1: 19, 2: 7, 3: 7, 4: 6, 5: 0, 6: 2, 7: 11}, {0: 12, 1: 14, 2: 7, 3: 7, 4: 6, 5: 0, 6: 2, 7: 11}, {0: 15, 1: 19, 2: 7, 3: 7, 4: 6, 5: 0, 6: 2, 7: 11}, {0: 12, 1: 14, 2: 7, 3: 7, 4: 6, 5: 0, 6: 2, 7: 11}, {0: 15, 1: 19, 2: 7, 3: 7, 4: 6, 5: 0, 6: 2, 7: 11}, {0: 15, 1: 19, 2: 7, 3: 7, 4: 6, 5: 0, 6: 2, 7: 11}, {0: 15, 1: 19, 2: 7, 3: 7, 4: 6, 5: 0, 6: 2, 7: 11}, {0: 12, 1: 14, 2: 7, 3: 7, 4: 6, 5: 0, 6: 2, 7: 11}, {0: 12, 1: 14, 2: 7, 3: 7, 4: 6, 5: 0, 6: 2, 7: 11}, {0: 12, 1: 14, 2: 7, 3: 7, 4: 6, 5: 0, 6: 2, 7: 11}, {0: 12, 1: 14, 2: 7, 3: 7, 4: 6, 5: 0, 6: 2, 7: 11}, {0: 12, 1: 14, 2: 7, 3: 7, 4: 6, 5: 0, 6: 2, 7: 11}, {0: 12, 1: 14, 2: 7, 3: 7, 4: 6, 5: 0, 6: 2, 7: 11}, {0: 12, 1: 14, 2: 7, 3: 7, 4: 6, 5: 0, 6: 2, 7: 11}, {0: 12, 1: 14, 2: 7, 3: 7, 4: 6, 5: 0, 6: 2, 7: 11}, {0: 12, 1: 14, 2: 7, 3: 7, 4: 6, 5: 0, 6: 2, 7: 11}, {0: 15, 1: 19, 2: 7, 3: 7, 4: 6, 5: 0, 6: 2, 7: 11}, {0: 15, 1: 19, 2: 7, 3: 7, 4: 6, 5: 0, 6: 2, 7: 11}, {0: 12, 1: 14, 2: 7, 3: 7, 4: 6, 5: 0, 6: 2, 7: 11}, {0: 12, 1: 14, 2: 7, 3: 7, 4: 6, 5: 0, 6: 2, 7: 11}]'), ('03475b04-f841-4f90-aee5-293c831fde38', 5, 2, 100, 8, 20, 2, 0.1, 0.5, 0.5, '[100, 62, 39, 48, 46, 38, 46, 50, 37, 45, 53, 36, 42, 48, 53, 48, 43, 48, 40, 34, 42, 50, 42, 41, 53, 40, 36, 36, 43, 37, 41, 39, 35, 36, 38, 42, 32, 38, 38, 44, 40, 37, 36, 44, 35, 39, 42, 39, 47, 37, 46, 38, 38, 38, 45, 40, 46, 39, 36, 41, 42, 41, 37, 41, 35, 41, 39, 37, 44, 41, 44, 39, 38, 39, 38, 46, 43, 43, 39, 36, 38, 40, 34, 45, 35, 40, 35, 37, 37, 36, 42, 36, 40, 37, 37, 38, 41, 39, 40, 44, 40]', '[{0: 16, 1: 2, 2: 0, 3: 9, 4: 0, 5: 5, 6: 17, 7: 14}, {0: 16, 1: 2, 2: 0, 3: 9, 4: 0, 5: 5, 6: 17, 7: 14}, {0: 16, 1: 2, 2: 0, 3: 9, 4: 0, 5: 5, 6: 17, 7: 14}, {0: 16, 1: 2, 2: 0, 3: 9, 4: 0, 5: 5, 6: 17, 7: 14}, {0: 16, 1: 2, 2: 0, 3: 9, 4: 0, 5: 5, 6: 17, 7: 14}, {0: 5, 1: 2, 2: 0, 3: 9, 4: 0, 5: 5, 6: 17, 7: 14}, {0: 16, 1: 2, 2: 0, 3: 9, 4: 0, 5: 5, 6: 17, 7: 14}, {0: 16, 1: 2, 2: 0, 3: 9, 4: 0, 5: 5, 6: 17, 7: 14}, {0: 16, 1: 2, 2: 0, 3: 9, 4: 0, 5: 5, 6: 17, 7: 14}, {0: 16, 1: 2, 2: 0, 3: 9, 4: 0, 5: 5, 6: 17, 7: 14}, {0: 16, 1: 2, 2: 0, 3: 9, 4: 0, 5: 5, 6: 17, 7: 14}, {0: 16, 1: 2, 2: 0, 3: 9, 4: 0, 5: 5, 6: 17, 7: 14}, {0: 16, 1: 2, 2: 0, 3: 9, 4: 0, 5: 5, 6: 17, 7: 14}, {0: 5, 1: 2, 2: 0, 3: 9, 4: 0, 5: 5, 6: 17, 7: 14}, {0: 5, 1: 2, 2: 0, 3: 9, 4: 0, 5: 5, 6: 17, 7: 14}, {0: 16, 1: 2, 2: 0, 3: 9, 4: 0, 5: 5, 6: 17, 7: 14}, {0: 16, 1: 2, 2: 0, 3: 9, 4: 0, 5: 5, 6: 17, 7: 14}, {0: 16, 1: 2, 2: 0, 3: 9, 4: 0, 5: 5, 6: 17, 7: 14}, {0: 5, 1: 2, 2: 0, 3: 9, 4: 0, 5: 5, 6: 17, 7: 14}, {0: 16, 1: 2, 2: 0, 3: 9, 4: 0, 5: 5, 6: 17, 7: 14}, {0: 16, 1: 2, 2: 0, 3: 9, 4: 0, 5: 5, 6: 17, 7: 14}, {0: 16, 1: 2, 2: 0, 3: 9, 4: 0, 5: 5, 6: 17, 7: 14}, {0: 16, 1: 2, 2: 0, 3: 9, 4: 0, 5: 5, 6: 17, 7: 14}, {0: 16, 1: 2, 2: 0, 3: 9, 4: 0, 5: 5, 6: 17, 7: 14}, {0: 16, 1: 2, 2: 0, 3: 9, 4: 0, 5: 5, 6: 17, 7: 14}, {0: 16, 1: 2, 2: 0, 3: 9, 4: 0, 5: 5, 6: 17, 7: 14}, {0: 5, 1: 2, 2: 0, 3: 9, 4: 0, 5: 5, 6: 17, 7: 14}, {0: 5, 1: 2, 2: 0, 3: 9, 4: 0, 5: 5, 6: 17, 7: 14}, {0: 16, 1: 2, 2: 0, 3: 9, 4: 0, 5: 5, 6: 17, 7: 14}, {0: 5, 1: 2, 2: 0, 3: 9, 4: 0, 5: 5, 6: 17, 7: 14}, {0: 16, 1: 2, 2: 0, 3: 9, 4: 0, 5: 5, 6: 17, 7: 14}, {0: 16, 1: 2, 2: 0, 3: 9, 4: 0, 5: 5, 6: 17, 7: 14}, {0: 16, 1: 2, 2: 0, 3: 9, 4: 0, 5: 5, 6: 17, 7: 14}, {0: 16, 1: 2, 2: 0, 3: 9, 4: 0, 5: 5, 6: 17, 7: 14}, {0: 5, 1: 2, 2: 0, 3: 9, 4: 0, 5: 5, 6: 17, 7: 14}, {0: 16, 1: 2, 2: 0, 3: 9, 4: 0, 5: 5, 6: 17, 7: 14}, {0: 16, 1: 2, 2: 0, 3: 9, 4: 0, 5: 5, 6: 17, 7: 14}, {0: 16, 1: 2, 2: 0, 3: 9, 4: 0, 5: 5, 6: 17, 7: 14}, {0: 16, 1: 2, 2: 0, 3: 9, 4: 0, 5: 5, 6: 17, 7: 14}, {0: 5, 1: 2, 2: 0, 3: 9, 4: 0, 5: 5, 6: 17, 7: 14}, {0: 5, 1: 2, 2: 0, 3: 9, 4: 0, 5: 5, 6: 17, 7: 14}, {0: 16, 1: 2, 2: 0, 3: 9, 4: 0, 5: 5, 6: 17, 7: 14}, {0: 16, 1: 2, 2: 0, 3: 9, 4: 0, 5: 5, 6: 17, 7: 14}, {0: 16, 1: 2, 2: 0, 3: 9, 4: 0, 5: 5, 6: 17, 7: 14}, {0: 16, 1: 2, 2: 0, 3: 9, 4: 0, 5: 5, 6: 17, 7: 14}, {0: 16, 1: 2, 2: 0, 3: 9, 4: 0, 5: 5, 6: 17, 7: 14}, {0: 16, 1: 2, 2: 0, 3: 9, 4: 0, 5: 5, 6: 17, 7: 14}, {0: 16, 1: 2, 2: 0, 3: 9, 4: 0, 5: 5, 6: 17, 7: 14}, {0: 5, 1: 2, 2: 0, 3: 9, 4: 0, 5: 5, 6: 17, 7: 14}, {0: 16, 1: 2, 2: 0, 3: 9, 4: 0, 5: 5, 6: 17, 7: 14}, {0: 5, 1: 2, 2: 0, 3: 9, 4: 0, 5: 5, 6: 17, 7: 14}, {0: 16, 1: 2, 2: 0, 3: 9, 4: 0, 5: 5, 6: 17, 7: 14}, {0: 5, 1: 2, 2: 0, 3: 9, 4: 0, 5: 5, 6: 17, 7: 14}, {0: 5, 1: 2, 2: 0, 3: 9, 4: 0, 5: 5, 6: 17, 7: 14}, {0: 5, 1: 2, 2: 0, 3: 9, 4: 0, 5: 5, 6: 17, 7: 14}, {0: 5, 1: 2, 2: 0, 3: 9, 4: 0, 5: 5, 6: 17, 7: 14}, {0: 5, 1: 2, 2: 0, 3: 9, 4: 0, 5: 5, 6: 17, 7: 14}, {0: 16, 1: 2, 2: 0, 3: 9, 4: 0, 5: 5, 6: 17, 7: 14}, {0: 5, 1: 2, 2: 0, 3: 9, 4: 0, 5: 5, 6: 17, 7: 14}, {0: 5, 1: 2, 2: 0, 3: 9, 4: 0, 5: 5, 6: 17, 7: 14}, {0: 16, 1: 2, 2: 0, 3: 9, 4: 0, 5: 5, 6: 17, 7: 14}, {0: 5, 1: 2, 2: 0, 3: 9, 4: 0, 5: 5, 6: 17, 7: 14}, {0: 5, 1: 2, 2: 0, 3: 9, 4: 0, 5: 5, 6: 17, 7: 14}, {0: 16, 1: 2, 2: 0, 3: 9, 4: 0, 5: 5, 6: 17, 7: 14}, {0: 5, 1: 2, 2: 0, 3: 9, 4: 0, 5: 5, 6: 17, 7: 14}, {0: 16, 1: 2, 2: 0, 3: 9, 4: 0, 5: 5, 6: 17, 7: 14}, {0: 16, 1: 2, 2: 0, 3: 9, 4: 0, 5: 5, 6: 17, 7: 14}, {0: 5, 1: 2, 2: 0, 3: 9, 4: 0, 5: 5, 6: 17, 7: 14}, {0: 5, 1: 2, 2: 0, 3: 9, 4: 0, 5: 5, 6: 17, 7: 14}, {0: 16, 1: 2, 2: 0, 3: 9, 4: 0, 5: 5, 6: 17, 7: 14}, {0: 5, 1: 2, 2: 0, 3: 9, 4: 0, 5: 5, 6: 17, 7: 14}, {0: 16, 1: 2, 2: 0, 3: 9, 4: 0, 5: 5, 6: 17, 7: 14}, {0: 16, 1: 2, 2: 0, 3: 9, 4: 0, 5: 5, 6: 17, 7: 14}, {0: 5, 1: 2, 2: 0, 3: 9, 4: 0, 5: 5, 6: 17, 7: 14}, {0: 16, 1: 2, 2: 0, 3: 9, 4: 0, 5: 5, 6: 17, 7: 14}, {0: 5, 1: 2, 2: 0, 3: 9, 4: 0, 5: 5, 6: 17, 7: 14}, {0: 16, 1: 2, 2: 0, 3: 9, 4: 0, 5: 5, 6: 17, 7: 14}, {0: 16, 1: 2, 2: 0, 3: 9, 4: 0, 5: 5, 6: 17, 7: 14}, {0: 16, 1: 2, 2: 0, 3: 9, 4: 0, 5: 5, 6: 17, 7: 14}, {0: 16, 1: 2, 2: 0, 3: 9, 4: 0, 5: 5, 6: 17, 7: 14}, {0: 5, 1: 2, 2: 0, 3: 9, 4: 0, 5: 5, 6: 17, 7: 14}, {0: 16, 1: 2, 2: 0, 3: 9, 4: 0, 5: 5, 6: 17, 7: 14}, {0: 16, 1: 2, 2: 0, 3: 9, 4: 0, 5: 5, 6: 17, 7: 14}, {0: 16, 1: 2, 2: 0, 3: 9, 4: 0, 5: 5, 6: 17, 7: 14}, {0: 16, 1: 2, 2: 0, 3: 9, 4: 0, 5: 5, 6: 17, 7: 14}, {0: 16, 1: 2, 2: 0, 3: 9, 4: 0, 5: 5, 6: 17, 7: 14}, {0: 16, 1: 2, 2: 0, 3: 9, 4: 0, 5: 5, 6: 17, 7: 14}, {0: 16, 1: 2, 2: 0, 3: 9, 4: 0, 5: 5, 6: 17, 7: 14}, {0: 5, 1: 2, 2: 0, 3: 9, 4: 0, 5: 5, 6: 17, 7: 14}, {0: 5, 1: 2, 2: 0, 3: 9, 4: 0, 5: 5, 6: 17, 7: 14}, {0: 16, 1: 2, 2: 0, 3: 9, 4: 0, 5: 5, 6: 17, 7: 14}, {0: 16, 1: 2, 2: 0, 3: 9, 4: 0, 5: 5, 6: 17, 7: 14}, {0: 5, 1: 2, 2: 0, 3: 9, 4: 0, 5: 5, 6: 17, 7: 14}, {0: 16, 1: 2, 2: 0, 3: 9, 4: 0, 5: 5, 6: 17, 7: 14}, {0: 5, 1: 2, 2: 0, 3: 9, 4: 0, 5: 5, 6: 17, 7: 14}, {0: 16, 1: 2, 2: 0, 3: 9, 4: 0, 5: 5, 6: 17, 7: 14}, {0: 5, 1: 2, 2: 0, 3: 9, 4: 0, 5: 5, 6: 17, 7: 14}, {0: 16, 1: 2, 2: 0, 3: 9, 4: 0, 5: 5, 6: 17, 7: 14}, {0: 16, 1: 2, 2: 0, 3: 9, 4: 0, 5: 5, 6: 17, 7: 14}, {0: 16, 1: 2, 2: 0, 3: 9, 4: 0, 5: 5, 6: 17, 7: 14}, {0: 16, 1: 2, 2: 0, 3: 9, 4: 0, 5: 5, 6: 17, 7: 14}]'), ('03475b04-f841-4f90-aee5-293c831fde38', 7, 3, 100, 8, 20, 2, 0.1, 0.5, 0.5, '[99, 52, 99, 59, 39, 39, 50, 39, 40, 50, 41, 46, 41, 36, 39, 50, 44, 41, 47, 35, 36, 59, 42, 51, 39, 41, 44, 45, 44, 45, 37, 38, 36, 46, 43, 42, 50, 42, 45, 52, 54, 43, 39, 41, 50, 46, 42, 51, 49, 38, 48, 52, 39, 43, 39, 43, 39, 39, 44, 39, 44, 43, 49, 43, 42, 47, 37, 44, 44, 43, 45, 48, 40, 38, 40, 41, 45, 47, 47, 38, 47, 51, 37, 45, 37, 41, 35, 42, 39, 50, 40, 37, 49, 39, 37, 37, 46, 43, 61, 45, 44]', '[{0: 2, 1: 3, 2: 7, 3: 4, 4: 3, 5: 19, 6: 19, 7: 13}, {0: 2, 1: 3, 2: 7, 3: 4, 4: 3, 5: 19, 6: 19, 7: 13}, {0: 14, 1: 3, 2: 7, 3: 4, 4: 3, 5: 19, 6: 19, 7: 13}, {0: 2, 1: 8, 2: 7, 3: 4, 4: 3, 5: 19, 6: 19, 7: 13}, {0: 14, 1: 3, 2: 7, 3: 4, 4: 3, 5: 19, 6: 19, 7: 13}, {0: 2, 1: 8, 2: 7, 3: 4, 4: 3, 5: 19, 6: 19, 7: 13}, {0: 2, 1: 8, 2: 7, 3: 4, 4: 3, 5: 19, 6: 19, 7: 13}, {0: 2, 1: 8, 2: 7, 3: 4, 4: 3, 5: 19, 6: 19, 7: 13}, {0: 14, 1: 3, 2: 7, 3: 4, 4: 3, 5: 19, 6: 19, 7: 13}, {0: 2, 1: 8, 2: 7, 3: 4, 4: 3, 5: 19, 6: 19, 7: 13}, {0: 14, 1: 3, 2: 7, 3: 4, 4: 3, 5: 19, 6: 19, 7: 13}, {0: 2, 1: 3, 2: 7, 3: 4, 4: 3, 5: 19, 6: 19, 7: 13}, {0: 2, 1: 3, 2: 7, 3: 4, 4: 3, 5: 19, 6: 19, 7: 13}, {0: 2, 1: 3, 2: 7, 3: 4, 4: 3, 5: 19, 6: 19, 7: 13}, {0: 2, 1: 3, 2: 7, 3: 4, 4: 3, 5: 19, 6: 19, 7: 13}, {0: 2, 1: 3, 2: 7, 3: 4, 4: 3, 5: 19, 6: 19, 7: 13}, {0: 2, 1: 3, 2: 7, 3: 4, 4: 3, 5: 19, 6: 19, 7: 13}, {0: 14, 1: 3, 2: 7, 3: 4, 4: 3, 5: 19, 6: 19, 7: 13}, {0: 2, 1: 3, 2: 7, 3: 4, 4: 3, 5: 19, 6: 19, 7: 13}, {0: 2, 1: 3, 2: 7, 3: 4, 4: 3, 5: 19, 6: 19, 7: 13}, {0: 2, 1: 3, 2: 7, 3: 4, 4: 3, 5: 19, 6: 19, 7: 13}, {0: 2, 1: 3, 2: 7, 3: 4, 4: 3, 5: 19, 6: 19, 7: 13}, {0: 2, 1: 3, 2: 7, 3: 4, 4: 3, 5: 19, 6: 19, 7: 13}, {0: 2, 1: 3, 2: 7, 3: 4, 4: 3, 5: 19, 6: 19, 7: 13}, {0: 2, 1: 3, 2: 7, 3: 4, 4: 3, 5: 19, 6: 19, 7: 13}, {0: 2, 1: 3, 2: 7, 3: 4, 4: 3, 5: 19, 6: 19, 7: 13}, {0: 2, 1: 3, 2: 7, 3: 4, 4: 3, 5: 19, 6: 19, 7: 13}, {0: 2, 1: 3, 2: 7, 3: 4, 4: 3, 5: 19, 6: 19, 7: 13}, {0: 14, 1: 3, 2: 7, 3: 4, 4: 3, 5: 19, 6: 19, 7: 13}, {0: 2, 1: 3, 2: 7, 3: 4, 4: 3, 5: 19, 6: 19, 7: 13}, {0: 2, 1: 3, 2: 7, 3: 4, 4: 3, 5: 19, 6: 19, 7: 13}, {0: 2, 1: 3, 2: 7, 3: 4, 4: 3, 5: 19, 6: 19, 7: 13}, {0: 2, 1: 3, 2: 7, 3: 4, 4: 3, 5: 19, 6: 19, 7: 13}, {0: 2, 1: 3, 2: 7, 3: 4, 4: 3, 5: 19, 6: 19, 7: 13}, {0: 2, 1: 3, 2: 7, 3: 4, 4: 3, 5: 19, 6: 19, 7: 13}, {0: 2, 1: 3, 2: 7, 3: 4, 4: 3, 5: 19, 6: 19, 7: 13}, {0: 2, 1: 3, 2: 7, 3: 4, 4: 3, 5: 19, 6: 19, 7: 13}, {0: 14, 1: 3, 2: 7, 3: 4, 4: 3, 5: 19, 6: 19, 7: 13}, {0: 2, 1: 3, 2: 7, 3: 4, 4: 3, 5: 19, 6: 19, 7: 13}, {0: 2, 1: 3, 2: 7, 3: 4, 4: 3, 5: 19, 6: 19, 7: 13}, {0: 14, 1: 3, 2: 7, 3: 4, 4: 3, 5: 19, 6: 19, 7: 13}, {0: 2, 1: 3, 2: 7, 3: 4, 4: 3, 5: 19, 6: 19, 7: 13}, {0: 2, 1: 3, 2: 7, 3: 4, 4: 3, 5: 19, 6: 19, 7: 13}, {0: 2, 1: 3, 2: 7, 3: 4, 4: 3, 5: 19, 6: 19, 7: 13}, {0: 2, 1: 3, 2: 7, 3: 4, 4: 3, 5: 19, 6: 19, 7: 13}, {0: 2, 1: 3, 2: 7, 3: 4, 4: 3, 5: 19, 6: 19, 7: 13}, {0: 2, 1: 3, 2: 7, 3: 4, 4: 3, 5: 19, 6: 19, 7: 13}, {0: 2, 1: 3, 2: 7, 3: 4, 4: 3, 5: 19, 6: 19, 7: 13}, {0: 2, 1: 3, 2: 7, 3: 4, 4: 3, 5: 19, 6: 19, 7: 13}, {0: 2, 1: 3, 2: 7, 3: 4, 4: 3, 5: 19, 6: 19, 7: 13}, {0: 2, 1: 3, 2: 7, 3: 4, 4: 3, 5: 19, 6: 19, 7: 13}, {0: 2, 1: 3, 2: 7, 3: 4, 4: 3, 5: 19, 6: 19, 7: 13}, {0: 2, 1: 3, 2: 7, 3: 4, 4: 3, 5: 19, 6: 19, 7: 13}, {0: 2, 1: 3, 2: 7, 3: 4, 4: 3, 5: 19, 6: 19, 7: 13}, {0: 2, 1: 3, 2: 7, 3: 4, 4: 3, 5: 19, 6: 19, 7: 13}, {0: 2, 1: 3, 2: 7, 3: 4, 4: 3, 5: 19, 6: 19, 7: 13}, {0: 2, 1: 3, 2: 7, 3: 4, 4: 3, 5: 19, 6: 19, 7: 13}, {0: 14, 1: 3, 2: 7, 3: 4, 4: 3, 5: 19, 6: 19, 7: 13}, {0: 2, 1: 3, 2: 7, 3: 4, 4: 3, 5: 19, 6: 19, 7: 13}, {0: 2, 1: 3, 2: 7, 3: 4, 4: 3, 5: 19, 6: 19, 7: 13}, {0: 14, 1: 3, 2: 7, 3: 4, 4: 3, 5: 19, 6: 19, 7: 13}, {0: 14, 1: 3, 2: 7, 3: 4, 4: 3, 5: 19, 6: 19, 7: 13}, {0: 14, 1: 3, 2: 7, 3: 4, 4: 3, 5: 19, 6: 19, 7: 13}, {0: 14, 1: 3, 2: 7, 3: 4, 4: 3, 5: 19, 6: 19, 7: 13}, {0: 2, 1: 3, 2: 7, 3: 4, 4: 3, 5: 19, 6: 19, 7: 13}, {0: 2, 1: 3, 2: 7, 3: 4, 4: 3, 5: 19, 6: 19, 7: 13}, {0: 2, 1: 3, 2: 7, 3: 4, 4: 3, 5: 19, 6: 19, 7: 13}, {0: 14, 1: 3, 2: 7, 3: 4, 4: 3, 5: 19, 6: 19, 7: 13}, {0: 2, 1: 3, 2: 7, 3: 4, 4: 3, 5: 19, 6: 19, 7: 13}, {0: 14, 1: 3, 2: 7, 3: 4, 4: 3, 5: 19, 6: 19, 7: 13}, {0: 14, 1: 3, 2: 7, 3: 4, 4: 3, 5: 19, 6: 19, 7: 13}, {0: 2, 1: 3, 2: 7, 3: 4, 4: 3, 5: 19, 6: 19, 7: 13}, {0: 2, 1: 3, 2: 7, 3: 4, 4: 3, 5: 19, 6: 19, 7: 13}, {0: 2, 1: 3, 2: 7, 3: 4, 4: 3, 5: 19, 6: 19, 7: 13}, {0: 2, 1: 3, 2: 7, 3: 4, 4: 3, 5: 19, 6: 19, 7: 13}, {0: 2, 1: 3, 2: 7, 3: 4, 4: 3, 5: 19, 6: 19, 7: 13}, {0: 14, 1: 3, 2: 7, 3: 4, 4: 3, 5: 19, 6: 19, 7: 13}, {0: 2, 1: 3, 2: 7, 3: 4, 4: 3, 5: 19, 6: 19, 7: 13}, {0: 2, 1: 3, 2: 7, 3: 4, 4: 3, 5: 19, 6: 19, 7: 13}, {0: 2, 1: 3, 2: 7, 3: 4, 4: 3, 5: 19, 6: 19, 7: 13}, {0: 2, 1: 3, 2: 7, 3: 4, 4: 3, 5: 19, 6: 19, 7: 13}, {0: 14, 1: 3, 2: 7, 3: 4, 4: 3, 5: 19, 6: 19, 7: 13}, {0: 2, 1: 3, 2: 7, 3: 4, 4: 3, 5: 19, 6: 19, 7: 13}, {0: 2, 1: 3, 2: 7, 3: 4, 4: 3, 5: 19, 6: 19, 7: 13}, {0: 14, 1: 3, 2: 7, 3: 4, 4: 3, 5: 19, 6: 19, 7: 13}, {0: 14, 1: 3, 2: 7, 3: 4, 4: 3, 5: 19, 6: 19, 7: 13}, {0: 2, 1: 3, 2: 7, 3: 4, 4: 3, 5: 19, 6: 19, 7: 13}, {0: 14, 1: 3, 2: 7, 3: 4, 4: 3, 5: 19, 6: 19, 7: 13}, {0: 14, 1: 3, 2: 7, 3: 4, 4: 3, 5: 19, 6: 19, 7: 13}, {0: 2, 1: 3, 2: 7, 3: 4, 4: 3, 5: 19, 6: 19, 7: 13}, {0: 2, 1: 3, 2: 7, 3: 4, 4: 3, 5: 19, 6: 19, 7: 13}, {0: 2, 1: 3, 2: 7, 3: 4, 4: 3, 5: 19, 6: 19, 7: 13}, {0: 2, 1: 3, 2: 7, 3: 4, 4: 3, 5: 19, 6: 19, 7: 13}, {0: 14, 1: 3, 2: 7, 3: 4, 4: 3, 5: 19, 6: 19, 7: 13}, {0: 2, 1: 3, 2: 7, 3: 4, 4: 3, 5: 19, 6: 19, 7: 13}, {0: 2, 1: 3, 2: 7, 3: 4, 4: 3, 5: 19, 6: 19, 7: 13}, {0: 2, 1: 3, 2: 7, 3: 4, 4: 3, 5: 19, 6: 19, 7: 13}, {0: 2, 1: 3, 2: 7, 3: 4, 4: 3, 5: 19, 6: 19, 7: 13}, {0: 2, 1: 3, 2: 7, 3: 4, 4: 3, 5: 19, 6: 19, 7: 13}, {0: 2, 1: 3, 2: 7, 3: 4, 4: 3, 5: 19, 6: 19, 7: 13}, {0: 2, 1: 3, 2: 7, 3: 4, 4: 3, 5: 19, 6: 19, 7: 13}]'), ('03475b04-f841-4f90-aee5-293c831fde38', 9, 4, 100, 8, 20, 2, 0.1, 0.5, 0.5, '[124, 48, 42, 62, 42, 44, 42, 36, 57, 46, 45, 38, 41, 43, 39, 35, 44, 51, 41, 44, 36, 42, 47, 40, 37, 49, 38, 42, 50, 42, 39, 59, 39, 38, 49, 38, 44, 45, 39, 44, 39, 37, 49, 42, 44, 37, 35, 35, 37, 46, 43, 46, 45, 37, 37, 43, 39, 41, 44, 36, 36, 39, 38, 47, 35, 40, 40, 43, 37, 46, 41, 43, 36, 42, 43, 38, 38, 37, 46, 40, 39, 42, 41, 38, 43, 42, 43, 37, 44, 47, 42, 46, 45, 37, 47, 38, 49, 42, 35, 35, 44]', '[{0: 14, 1: 2, 2: 12, 3: 19, 4: 14, 5: 10, 6: 19, 7: 19}, {0: 11, 1: 2, 2: 12, 3: 19, 4: 14, 5: 10, 6: 19, 7: 19}, {0: 11, 1: 2, 2: 12, 3: 19, 4: 14, 5: 10, 6: 19, 7: 19}, {0: 11, 1: 2, 2: 12, 3: 19, 4: 14, 5: 10, 6: 19, 7: 19}, {0: 11, 1: 2, 2: 12, 3: 19, 4: 14, 5: 10, 6: 19, 7: 19}, {0: 11, 1: 2, 2: 12, 3: 19, 4: 14, 5: 10, 6: 19, 7: 19}, {0: 11, 1: 2, 2: 12, 3: 19, 4: 14, 5: 10, 6: 19, 7: 19}, {0: 11, 1: 2, 2: 12, 3: 19, 4: 14, 5: 10, 6: 19, 7: 19}, {0: 14, 1: 2, 2: 12, 3: 19, 4: 14, 5: 10, 6: 19, 7: 19}, {0: 11, 1: 2, 2: 12, 3: 19, 4: 14, 5: 10, 6: 19, 7: 19}, {0: 11, 1: 2, 2: 12, 3: 19, 4: 14, 5: 10, 6: 19, 7: 19}, {0: 14, 1: 2, 2: 12, 3: 19, 4: 14, 5: 10, 6: 19, 7: 19}, {0: 11, 1: 2, 2: 12, 3: 19, 4: 14, 5: 10, 6: 19, 7: 19}, {0: 11, 1: 2, 2: 12, 3: 19, 4: 14, 5: 10, 6: 19, 7: 19}, {0: 11, 1: 2, 2: 12, 3: 19, 4: 14, 5: 10, 6: 19, 7: 19}, {0: 11, 1: 2, 2: 12, 3: 19, 4: 14, 5: 10, 6: 19, 7: 19}, {0: 11, 1: 2, 2: 12, 3: 19, 4: 14, 5: 10, 6: 19, 7: 19}, {0: 11, 1: 2, 2: 12, 3: 19, 4: 14, 5: 10, 6: 19, 7: 19}, {0: 11, 1: 2, 2: 12, 3: 19, 4: 14, 5: 10, 6: 19, 7: 19}, {0: 11, 1: 2, 2: 12, 3: 19, 4: 14, 5: 10, 6: 19, 7: 19}, {0: 11, 1: 2, 2: 12, 3: 19, 4: 14, 5: 10, 6: 19, 7: 19}, {0: 11, 1: 2, 2: 12, 3: 19, 4: 14, 5: 10, 6: 19, 7: 19}, {0: 11, 1: 2, 2: 12, 3: 19, 4: 14, 5: 10, 6: 19, 7: 19}, {0: 11, 1: 2, 2: 12, 3: 19, 4: 14, 5: 10, 6: 19, 7: 19}, {0: 11, 1: 2, 2: 12, 3: 19, 4: 14, 5: 10, 6: 19, 7: 19}, {0: 11, 1: 2, 2: 12, 3: 19, 4: 14, 5: 10, 6: 19, 7: 19}, {0: 11, 1: 2, 2: 12, 3: 19, 4: 14, 5: 10, 6: 19, 7: 19}, {0: 11, 1: 2, 2: 12, 3: 19, 4: 14, 5: 10, 6: 19, 7: 19}, {0: 11, 1: 2, 2: 12, 3: 19, 4: 14, 5: 10, 6: 19, 7: 19}, {0: 11, 1: 2, 2: 12, 3: 19, 4: 14, 5: 10, 6: 19, 7: 19}, {0: 14, 1: 2, 2: 12, 3: 19, 4: 14, 5: 10, 6: 19, 7: 19}, {0: 11, 1: 2, 2: 12, 3: 19, 4: 14, 5: 10, 6: 19, 7: 19}, {0: 11, 1: 2, 2: 12, 3: 19, 4: 14, 5: 10, 6: 19, 7: 19}, {0: 11, 1: 2, 2: 12, 3: 19, 4: 14, 5: 10, 6: 19, 7: 19}, {0: 11, 1: 2, 2: 12, 3: 19, 4: 14, 5: 10, 6: 19, 7: 19}, {0: 14, 1: 2, 2: 12, 3: 19, 4: 14, 5: 10, 6: 19, 7: 19}, {0: 14, 1: 2, 2: 12, 3: 19, 4: 14, 5: 10, 6: 19, 7: 19}, {0: 14, 1: 2, 2: 12, 3: 19, 4: 14, 5: 10, 6: 19, 7: 19}, {0: 11, 1: 2, 2: 12, 3: 19, 4: 14, 5: 10, 6: 19, 7: 19}, {0: 11, 1: 2, 2: 12, 3: 19, 4: 14, 5: 10, 6: 19, 7: 19}, {0: 14, 1: 2, 2: 12, 3: 19, 4: 14, 5: 10, 6: 19, 7: 19}, {0: 11, 1: 2, 2: 12, 3: 19, 4: 14, 5: 10, 6: 19, 7: 19}, {0: 14, 1: 2, 2: 12, 3: 19, 4: 14, 5: 10, 6: 19, 7: 19}, {0: 11, 1: 2, 2: 12, 3: 19, 4: 14, 5: 10, 6: 19, 7: 19}, {0: 11, 1: 2, 2: 12, 3: 19, 4: 14, 5: 10, 6: 19, 7: 19}, {0: 11, 1: 2, 2: 12, 3: 19, 4: 14, 5: 10, 6: 19, 7: 19}, {0: 11, 1: 2, 2: 12, 3: 19, 4: 14, 5: 10, 6: 19, 7: 19}, {0: 11, 1: 2, 2: 12, 3: 19, 4: 14, 5: 10, 6: 19, 7: 19}, {0: 14, 1: 2, 2: 12, 3: 19, 4: 14, 5: 10, 6: 19, 7: 19}, {0: 14, 1: 2, 2: 12, 3: 19, 4: 14, 5: 10, 6: 19, 7: 19}, {0: 11, 1: 2, 2: 12, 3: 19, 4: 14, 5: 10, 6: 19, 7: 19}, {0: 11, 1: 2, 2: 12, 3: 19, 4: 14, 5: 10, 6: 19, 7: 19}, {0: 11, 1: 2, 2: 12, 3: 19, 4: 14, 5: 10, 6: 19, 7: 19}, {0: 11, 1: 2, 2: 12, 3: 19, 4: 14, 5: 10, 6: 19, 7: 19}, {0: 11, 1: 2, 2: 12, 3: 19, 4: 14, 5: 10, 6: 19, 7: 19}, {0: 11, 1: 2, 2: 12, 3: 19, 4: 14, 5: 10, 6: 19, 7: 19}, {0: 11, 1: 2, 2: 12, 3: 19, 4: 14, 5: 10, 6: 19, 7: 19}, {0: 11, 1: 2, 2: 12, 3: 19, 4: 14, 5: 10, 6: 19, 7: 19}, {0: 11, 1: 2, 2: 12, 3: 19, 4: 14, 5: 10, 6: 19, 7: 19}, {0: 11, 1: 2, 2: 12, 3: 19, 4: 14, 5: 10, 6: 19, 7: 19}, {0: 11, 1: 2, 2: 12, 3: 19, 4: 14, 5: 10, 6: 19, 7: 19}, {0: 11, 1: 2, 2: 12, 3: 19, 4: 14, 5: 10, 6: 19, 7: 19}, {0: 11, 1: 2, 2: 12, 3: 19, 4: 14, 5: 10, 6: 19, 7: 19}, {0: 11, 1: 2, 2: 12, 3: 19, 4: 14, 5: 10, 6: 19, 7: 19}, {0: 11, 1: 2, 2: 12, 3: 19, 4: 14, 5: 10, 6: 19, 7: 19}, {0: 14, 1: 2, 2: 12, 3: 19, 4: 14, 5: 10, 6: 19, 7: 19}, {0: 11, 1: 2, 2: 12, 3: 19, 4: 14, 5: 10, 6: 19, 7: 19}, {0: 11, 1: 2, 2: 12, 3: 19, 4: 14, 5: 10, 6: 19, 7: 19}, {0: 11, 1: 2, 2: 12, 3: 19, 4: 14, 5: 10, 6: 19, 7: 19}, {0: 11, 1: 2, 2: 12, 3: 19, 4: 14, 5: 10, 6: 19, 7: 19}, {0: 11, 1: 2, 2: 12, 3: 19, 4: 14, 5: 10, 6: 19, 7: 19}, {0: 11, 1: 2, 2: 12, 3: 19, 4: 14, 5: 10, 6: 19, 7: 19}, {0: 11, 1: 2, 2: 12, 3: 19, 4: 14, 5: 10, 6: 19, 7: 19}, {0: 11, 1: 2, 2: 12, 3: 19, 4: 14, 5: 10, 6: 19, 7: 19}, {0: 11, 1: 2, 2: 12, 3: 19, 4: 14, 5: 10, 6: 19, 7: 19}, {0: 11, 1: 2, 2: 12, 3: 19, 4: 14, 5: 10, 6: 19, 7: 19}, {0: 11, 1: 2, 2: 12, 3: 19, 4: 14, 5: 10, 6: 19, 7: 19}, {0: 14, 1: 2, 2: 12, 3: 19, 4: 14, 5: 10, 6: 19, 7: 19}, {0: 14, 1: 2, 2: 12, 3: 19, 4: 14, 5: 10, 6: 19, 7: 19}, {0: 11, 1: 2, 2: 12, 3: 19, 4: 14, 5: 10, 6: 19, 7: 19}, {0: 14, 1: 2, 2: 12, 3: 19, 4: 14, 5: 10, 6: 19, 7: 19}, {0: 14, 1: 2, 2: 12, 3: 19, 4: 14, 5: 10, 6: 19, 7: 19}, {0: 11, 1: 2, 2: 12, 3: 19, 4: 14, 5: 10, 6: 19, 7: 19}, {0: 11, 1: 2, 2: 12, 3: 19, 4: 14, 5: 10, 6: 19, 7: 19}, {0: 11, 1: 2, 2: 12, 3: 19, 4: 14, 5: 10, 6: 19, 7: 19}, {0: 11, 1: 2, 2: 12, 3: 19, 4: 14, 5: 10, 6: 19, 7: 19}, {0: 11, 1: 2, 2: 12, 3: 19, 4: 14, 5: 10, 6: 19, 7: 19}, {0: 11, 1: 2, 2: 12, 3: 19, 4: 14, 5: 10, 6: 19, 7: 19}, {0: 11, 1: 2, 2: 12, 3: 19, 4: 14, 5: 10, 6: 19, 7: 19}, {0: 11, 1: 2, 2: 12, 3: 19, 4: 14, 5: 10, 6: 19, 7: 19}, {0: 11, 1: 2, 2: 12, 3: 19, 4: 14, 5: 10, 6: 19, 7: 19}, {0: 11, 1: 2, 2: 12, 3: 19, 4: 14, 5: 10, 6: 19, 7: 19}, {0: 11, 1: 2, 2: 12, 3: 19, 4: 14, 5: 10, 6: 19, 7: 19}, {0: 14, 1: 2, 2: 12, 3: 19, 4: 14, 5: 10, 6: 19, 7: 19}, {0: 11, 1: 2, 2: 12, 3: 19, 4: 14, 5: 10, 6: 19, 7: 19}, {0: 14, 1: 2, 2: 12, 3: 19, 4: 14, 5: 10, 6: 19, 7: 19}, {0: 14, 1: 2, 2: 12, 3: 19, 4: 14, 5: 10, 6: 19, 7: 19}, {0: 14, 1: 2, 2: 12, 3: 19, 4: 14, 5: 10, 6: 19, 7: 19}, {0: 11, 1: 2, 2: 12, 3: 19, 4: 14, 5: 10, 6: 19, 7: 19}, {0: 11, 1: 2, 2: 12, 3: 19, 4: 14, 5: 10, 6: 19, 7: 19}, {0: 11, 1: 2, 2: 12, 3: 19, 4: 14, 5: 10, 6: 19, 7: 19}]')]\n"
     ]
    }
   ],
   "source": [
    "cur.execute(\"SELECT * FROM simulation_data LIMIT 5;\")\n",
    "print(cur.fetchall())"
   ]
  },
  {
   "cell_type": "code",
   "execution_count": 8,
   "metadata": {},
   "outputs": [
    {
     "ename": "InvalidParameterValueException",
     "evalue": "An error occurred (InvalidParameterValueException) when calling the CreateFunction operation: Unzipped size must be smaller than 262144000 bytes",
     "output_type": "error",
     "traceback": [
      "\u001b[0;31m---------------------------------------------------------------------------\u001b[0m",
      "\u001b[0;31mInvalidParameterValueException\u001b[0m            Traceback (most recent call last)",
      "\u001b[1;32m/Users/yingrongmao/Desktop/routine_AWS/step_func.ipynb Cell 12\u001b[0m line \u001b[0;36m6\n\u001b[1;32m      <a href='vscode-notebook-cell:/Users/yingrongmao/Desktop/routine_AWS/step_func.ipynb#X30sZmlsZQ%3D%3D?line=2'>3</a>\u001b[0m aws_lambda \u001b[39m=\u001b[39m boto3\u001b[39m.\u001b[39mclient(\u001b[39m'\u001b[39m\u001b[39mlambda\u001b[39m\u001b[39m'\u001b[39m)\n\u001b[1;32m      <a href='vscode-notebook-cell:/Users/yingrongmao/Desktop/routine_AWS/step_func.ipynb#X30sZmlsZQ%3D%3D?line=4'>5</a>\u001b[0m \u001b[39mtry\u001b[39;00m:\n\u001b[0;32m----> <a href='vscode-notebook-cell:/Users/yingrongmao/Desktop/routine_AWS/step_func.ipynb#X30sZmlsZQ%3D%3D?line=5'>6</a>\u001b[0m     response \u001b[39m=\u001b[39m aws_lambda\u001b[39m.\u001b[39mcreate_function(\n\u001b[1;32m      <a href='vscode-notebook-cell:/Users/yingrongmao/Desktop/routine_AWS/step_func.ipynb#X30sZmlsZQ%3D%3D?line=6'>7</a>\u001b[0m         FunctionName\u001b[39m=\u001b[39m\u001b[39m'\u001b[39m\u001b[39mroutine2\u001b[39m\u001b[39m'\u001b[39m,\n\u001b[1;32m      <a href='vscode-notebook-cell:/Users/yingrongmao/Desktop/routine_AWS/step_func.ipynb#X30sZmlsZQ%3D%3D?line=7'>8</a>\u001b[0m         Runtime\u001b[39m=\u001b[39m\u001b[39m'\u001b[39m\u001b[39mpython3.9\u001b[39m\u001b[39m'\u001b[39m,\n\u001b[1;32m      <a href='vscode-notebook-cell:/Users/yingrongmao/Desktop/routine_AWS/step_func.ipynb#X30sZmlsZQ%3D%3D?line=8'>9</a>\u001b[0m         Role\u001b[39m=\u001b[39mrole[\u001b[39m'\u001b[39m\u001b[39mRole\u001b[39m\u001b[39m'\u001b[39m][\u001b[39m'\u001b[39m\u001b[39mArn\u001b[39m\u001b[39m'\u001b[39m],\n\u001b[1;32m     <a href='vscode-notebook-cell:/Users/yingrongmao/Desktop/routine_AWS/step_func.ipynb#X30sZmlsZQ%3D%3D?line=9'>10</a>\u001b[0m         Handler\u001b[39m=\u001b[39m\u001b[39m'\u001b[39m\u001b[39mlambda_function.lambda_handler\u001b[39m\u001b[39m'\u001b[39m,\n\u001b[1;32m     <a href='vscode-notebook-cell:/Users/yingrongmao/Desktop/routine_AWS/step_func.ipynb#X30sZmlsZQ%3D%3D?line=10'>11</a>\u001b[0m         Code\u001b[39m=\u001b[39m{\n\u001b[1;32m     <a href='vscode-notebook-cell:/Users/yingrongmao/Desktop/routine_AWS/step_func.ipynb#X30sZmlsZQ%3D%3D?line=11'>12</a>\u001b[0m             \u001b[39m'\u001b[39m\u001b[39mS3Bucket\u001b[39m\u001b[39m'\u001b[39m: \u001b[39m'\u001b[39m\u001b[39mabbeynewbucket\u001b[39m\u001b[39m'\u001b[39m,\n\u001b[1;32m     <a href='vscode-notebook-cell:/Users/yingrongmao/Desktop/routine_AWS/step_func.ipynb#X30sZmlsZQ%3D%3D?line=12'>13</a>\u001b[0m             \u001b[39m'\u001b[39m\u001b[39mS3Key\u001b[39m\u001b[39m'\u001b[39m: \u001b[39m'\u001b[39m\u001b[39mfinal_project_packages\u001b[39m\u001b[39m'\u001b[39m\n\u001b[1;32m     <a href='vscode-notebook-cell:/Users/yingrongmao/Desktop/routine_AWS/step_func.ipynb#X30sZmlsZQ%3D%3D?line=13'>14</a>\u001b[0m         },\n\u001b[1;32m     <a href='vscode-notebook-cell:/Users/yingrongmao/Desktop/routine_AWS/step_func.ipynb#X30sZmlsZQ%3D%3D?line=14'>15</a>\u001b[0m         Timeout\u001b[39m=\u001b[39m\u001b[39m300\u001b[39m\n\u001b[1;32m     <a href='vscode-notebook-cell:/Users/yingrongmao/Desktop/routine_AWS/step_func.ipynb#X30sZmlsZQ%3D%3D?line=15'>16</a>\u001b[0m     )\n\u001b[1;32m     <a href='vscode-notebook-cell:/Users/yingrongmao/Desktop/routine_AWS/step_func.ipynb#X30sZmlsZQ%3D%3D?line=16'>17</a>\u001b[0m \u001b[39mexcept\u001b[39;00m aws_lambda\u001b[39m.\u001b[39mexceptions\u001b[39m.\u001b[39mResourceConflictException:\n\u001b[1;32m     <a href='vscode-notebook-cell:/Users/yingrongmao/Desktop/routine_AWS/step_func.ipynb#X30sZmlsZQ%3D%3D?line=17'>18</a>\u001b[0m     \u001b[39m# If function already exists, update it based on zip\u001b[39;00m\n\u001b[1;32m     <a href='vscode-notebook-cell:/Users/yingrongmao/Desktop/routine_AWS/step_func.ipynb#X30sZmlsZQ%3D%3D?line=18'>19</a>\u001b[0m     \u001b[39m# file contents\u001b[39;00m\n\u001b[1;32m     <a href='vscode-notebook-cell:/Users/yingrongmao/Desktop/routine_AWS/step_func.ipynb#X30sZmlsZQ%3D%3D?line=19'>20</a>\u001b[0m     response \u001b[39m=\u001b[39m aws_lambda\u001b[39m.\u001b[39mupdate_function_code(\n\u001b[1;32m     <a href='vscode-notebook-cell:/Users/yingrongmao/Desktop/routine_AWS/step_func.ipynb#X30sZmlsZQ%3D%3D?line=20'>21</a>\u001b[0m         S3Bucket\u001b[39m=\u001b[39m\u001b[39m'\u001b[39m\u001b[39mabbeynewbucket\u001b[39m\u001b[39m'\u001b[39m,\n\u001b[1;32m     <a href='vscode-notebook-cell:/Users/yingrongmao/Desktop/routine_AWS/step_func.ipynb#X30sZmlsZQ%3D%3D?line=21'>22</a>\u001b[0m         S3Key\u001b[39m=\u001b[39m\u001b[39m'\u001b[39m\u001b[39mfinal_project_packages\u001b[39m\u001b[39m'\u001b[39m\n\u001b[1;32m     <a href='vscode-notebook-cell:/Users/yingrongmao/Desktop/routine_AWS/step_func.ipynb#X30sZmlsZQ%3D%3D?line=22'>23</a>\u001b[0m     )\n",
      "File \u001b[0;32m~/anaconda3/lib/python3.11/site-packages/botocore/client.py:565\u001b[0m, in \u001b[0;36mClientCreator._create_api_method.<locals>._api_call\u001b[0;34m(self, *args, **kwargs)\u001b[0m\n\u001b[1;32m    561\u001b[0m     \u001b[39mraise\u001b[39;00m \u001b[39mTypeError\u001b[39;00m(\n\u001b[1;32m    562\u001b[0m         \u001b[39mf\u001b[39m\u001b[39m\"\u001b[39m\u001b[39m{\u001b[39;00mpy_operation_name\u001b[39m}\u001b[39;00m\u001b[39m() only accepts keyword arguments.\u001b[39m\u001b[39m\"\u001b[39m\n\u001b[1;32m    563\u001b[0m     )\n\u001b[1;32m    564\u001b[0m \u001b[39m# The \"self\" in this scope is referring to the BaseClient.\u001b[39;00m\n\u001b[0;32m--> 565\u001b[0m \u001b[39mreturn\u001b[39;00m \u001b[39mself\u001b[39m\u001b[39m.\u001b[39m_make_api_call(operation_name, kwargs)\n",
      "File \u001b[0;32m~/anaconda3/lib/python3.11/site-packages/botocore/client.py:1021\u001b[0m, in \u001b[0;36mBaseClient._make_api_call\u001b[0;34m(self, operation_name, api_params)\u001b[0m\n\u001b[1;32m   1017\u001b[0m     error_code \u001b[39m=\u001b[39m error_info\u001b[39m.\u001b[39mget(\u001b[39m\"\u001b[39m\u001b[39mQueryErrorCode\u001b[39m\u001b[39m\"\u001b[39m) \u001b[39mor\u001b[39;00m error_info\u001b[39m.\u001b[39mget(\n\u001b[1;32m   1018\u001b[0m         \u001b[39m\"\u001b[39m\u001b[39mCode\u001b[39m\u001b[39m\"\u001b[39m\n\u001b[1;32m   1019\u001b[0m     )\n\u001b[1;32m   1020\u001b[0m     error_class \u001b[39m=\u001b[39m \u001b[39mself\u001b[39m\u001b[39m.\u001b[39mexceptions\u001b[39m.\u001b[39mfrom_code(error_code)\n\u001b[0;32m-> 1021\u001b[0m     \u001b[39mraise\u001b[39;00m error_class(parsed_response, operation_name)\n\u001b[1;32m   1022\u001b[0m \u001b[39melse\u001b[39;00m:\n\u001b[1;32m   1023\u001b[0m     \u001b[39mreturn\u001b[39;00m parsed_response\n",
      "\u001b[0;31mInvalidParameterValueException\u001b[0m: An error occurred (InvalidParameterValueException) when calling the CreateFunction operation: Unzipped size must be smaller than 262144000 bytes"
     ]
    }
   ],
   "source": [
    "iam_client = boto3.client('iam')\n",
    "role = iam_client.get_role(RoleName='LabRole')\n",
    "aws_lambda = boto3.client('lambda')\n",
    "\n",
    "try:\n",
    "    response = aws_lambda.create_function(\n",
    "        FunctionName='routine2',\n",
    "        Runtime='python3.9',\n",
    "        Role=role['Role']['Arn'],\n",
    "        Handler='lambda_function.lambda_handler',\n",
    "        Code={\n",
    "            'S3Bucket': 'abbeynewbucket',\n",
    "            'S3Key': 'final_project_packages'\n",
    "        },\n",
    "        Timeout=300\n",
    "    )\n",
    "except aws_lambda.exceptions.ResourceConflictException:\n",
    "    # If function already exists, update it based on zip\n",
    "    # file contents\n",
    "    response = aws_lambda.update_function_code(\n",
    "        S3Bucket='abbeynewbucket',\n",
    "        S3Key='final_project_packages'\n",
    "    )\n",
    "\n",
    "response = aws_lambda.put_function_concurrency(\n",
    "    FunctionName='routine2',\n",
    "    ReservedConcurrentExecutions=10\n",
    ")\n",
    "\n"
   ]
  },
  {
   "cell_type": "code",
   "execution_count": 6,
   "metadata": {},
   "outputs": [
    {
     "ename": "ClientError",
     "evalue": "An error occurred (RequestEntityTooLargeException) when calling the CreateFunction operation: Request must be smaller than 70167211 bytes for the CreateFunction operation",
     "output_type": "error",
     "traceback": [
      "\u001b[0;31m---------------------------------------------------------------------------\u001b[0m",
      "\u001b[0;31mClientError\u001b[0m                               Traceback (most recent call last)",
      "\u001b[1;32m/Users/yingrongmao/Desktop/routine_AWS/step_func.ipynb Cell 12\u001b[0m line \u001b[0;36m1\n\u001b[1;32m      <a href='vscode-notebook-cell:/Users/yingrongmao/Desktop/routine_AWS/step_func.ipynb#X14sZmlsZQ%3D%3D?line=6'>7</a>\u001b[0m     lambda_zip \u001b[39m=\u001b[39m f\u001b[39m.\u001b[39mread()\n\u001b[1;32m      <a href='vscode-notebook-cell:/Users/yingrongmao/Desktop/routine_AWS/step_func.ipynb#X14sZmlsZQ%3D%3D?line=8'>9</a>\u001b[0m \u001b[39mtry\u001b[39;00m:\n\u001b[1;32m     <a href='vscode-notebook-cell:/Users/yingrongmao/Desktop/routine_AWS/step_func.ipynb#X14sZmlsZQ%3D%3D?line=9'>10</a>\u001b[0m     \u001b[39m# If function hasn't yet been created, create it\u001b[39;00m\n\u001b[0;32m---> <a href='vscode-notebook-cell:/Users/yingrongmao/Desktop/routine_AWS/step_func.ipynb#X14sZmlsZQ%3D%3D?line=10'>11</a>\u001b[0m     response \u001b[39m=\u001b[39m aws_lambda\u001b[39m.\u001b[39mcreate_function(\n\u001b[1;32m     <a href='vscode-notebook-cell:/Users/yingrongmao/Desktop/routine_AWS/step_func.ipynb#X14sZmlsZQ%3D%3D?line=11'>12</a>\u001b[0m         FunctionName\u001b[39m=\u001b[39m\u001b[39m'\u001b[39m\u001b[39mroutine1\u001b[39m\u001b[39m'\u001b[39m,\n\u001b[1;32m     <a href='vscode-notebook-cell:/Users/yingrongmao/Desktop/routine_AWS/step_func.ipynb#X14sZmlsZQ%3D%3D?line=12'>13</a>\u001b[0m         Runtime\u001b[39m=\u001b[39m\u001b[39m'\u001b[39m\u001b[39mpython3.9\u001b[39m\u001b[39m'\u001b[39m,\n\u001b[1;32m     <a href='vscode-notebook-cell:/Users/yingrongmao/Desktop/routine_AWS/step_func.ipynb#X14sZmlsZQ%3D%3D?line=13'>14</a>\u001b[0m         Role\u001b[39m=\u001b[39mrole[\u001b[39m'\u001b[39m\u001b[39mRole\u001b[39m\u001b[39m'\u001b[39m][\u001b[39m'\u001b[39m\u001b[39mArn\u001b[39m\u001b[39m'\u001b[39m],\n\u001b[1;32m     <a href='vscode-notebook-cell:/Users/yingrongmao/Desktop/routine_AWS/step_func.ipynb#X14sZmlsZQ%3D%3D?line=14'>15</a>\u001b[0m         Handler\u001b[39m=\u001b[39m\u001b[39m'\u001b[39m\u001b[39mlambda_function.lambda_handler\u001b[39m\u001b[39m'\u001b[39m,\n\u001b[1;32m     <a href='vscode-notebook-cell:/Users/yingrongmao/Desktop/routine_AWS/step_func.ipynb#X14sZmlsZQ%3D%3D?line=15'>16</a>\u001b[0m         Code\u001b[39m=\u001b[39m\u001b[39mdict\u001b[39m(ZipFile\u001b[39m=\u001b[39mlambda_zip),\n\u001b[1;32m     <a href='vscode-notebook-cell:/Users/yingrongmao/Desktop/routine_AWS/step_func.ipynb#X14sZmlsZQ%3D%3D?line=16'>17</a>\u001b[0m         Timeout\u001b[39m=\u001b[39m\u001b[39m300\u001b[39m\n\u001b[1;32m     <a href='vscode-notebook-cell:/Users/yingrongmao/Desktop/routine_AWS/step_func.ipynb#X14sZmlsZQ%3D%3D?line=17'>18</a>\u001b[0m     )\n\u001b[1;32m     <a href='vscode-notebook-cell:/Users/yingrongmao/Desktop/routine_AWS/step_func.ipynb#X14sZmlsZQ%3D%3D?line=18'>19</a>\u001b[0m \u001b[39mexcept\u001b[39;00m aws_lambda\u001b[39m.\u001b[39mexceptions\u001b[39m.\u001b[39mResourceConflictException:\n\u001b[1;32m     <a href='vscode-notebook-cell:/Users/yingrongmao/Desktop/routine_AWS/step_func.ipynb#X14sZmlsZQ%3D%3D?line=19'>20</a>\u001b[0m     \u001b[39m# If function already exists, update it based on zip\u001b[39;00m\n\u001b[1;32m     <a href='vscode-notebook-cell:/Users/yingrongmao/Desktop/routine_AWS/step_func.ipynb#X14sZmlsZQ%3D%3D?line=20'>21</a>\u001b[0m     \u001b[39m# file contents\u001b[39;00m\n\u001b[1;32m     <a href='vscode-notebook-cell:/Users/yingrongmao/Desktop/routine_AWS/step_func.ipynb#X14sZmlsZQ%3D%3D?line=21'>22</a>\u001b[0m     response \u001b[39m=\u001b[39m aws_lambda\u001b[39m.\u001b[39mupdate_function_code(\n\u001b[1;32m     <a href='vscode-notebook-cell:/Users/yingrongmao/Desktop/routine_AWS/step_func.ipynb#X14sZmlsZQ%3D%3D?line=22'>23</a>\u001b[0m         FunctionName\u001b[39m=\u001b[39m\u001b[39m'\u001b[39m\u001b[39mroutine1\u001b[39m\u001b[39m'\u001b[39m,\n\u001b[1;32m     <a href='vscode-notebook-cell:/Users/yingrongmao/Desktop/routine_AWS/step_func.ipynb#X14sZmlsZQ%3D%3D?line=23'>24</a>\u001b[0m         ZipFile\u001b[39m=\u001b[39mlambda_zip\n\u001b[1;32m     <a href='vscode-notebook-cell:/Users/yingrongmao/Desktop/routine_AWS/step_func.ipynb#X14sZmlsZQ%3D%3D?line=24'>25</a>\u001b[0m     )\n",
      "File \u001b[0;32m~/anaconda3/lib/python3.11/site-packages/botocore/client.py:565\u001b[0m, in \u001b[0;36mClientCreator._create_api_method.<locals>._api_call\u001b[0;34m(self, *args, **kwargs)\u001b[0m\n\u001b[1;32m    561\u001b[0m     \u001b[39mraise\u001b[39;00m \u001b[39mTypeError\u001b[39;00m(\n\u001b[1;32m    562\u001b[0m         \u001b[39mf\u001b[39m\u001b[39m\"\u001b[39m\u001b[39m{\u001b[39;00mpy_operation_name\u001b[39m}\u001b[39;00m\u001b[39m() only accepts keyword arguments.\u001b[39m\u001b[39m\"\u001b[39m\n\u001b[1;32m    563\u001b[0m     )\n\u001b[1;32m    564\u001b[0m \u001b[39m# The \"self\" in this scope is referring to the BaseClient.\u001b[39;00m\n\u001b[0;32m--> 565\u001b[0m \u001b[39mreturn\u001b[39;00m \u001b[39mself\u001b[39m\u001b[39m.\u001b[39m_make_api_call(operation_name, kwargs)\n",
      "File \u001b[0;32m~/anaconda3/lib/python3.11/site-packages/botocore/client.py:1021\u001b[0m, in \u001b[0;36mBaseClient._make_api_call\u001b[0;34m(self, operation_name, api_params)\u001b[0m\n\u001b[1;32m   1017\u001b[0m     error_code \u001b[39m=\u001b[39m error_info\u001b[39m.\u001b[39mget(\u001b[39m\"\u001b[39m\u001b[39mQueryErrorCode\u001b[39m\u001b[39m\"\u001b[39m) \u001b[39mor\u001b[39;00m error_info\u001b[39m.\u001b[39mget(\n\u001b[1;32m   1018\u001b[0m         \u001b[39m\"\u001b[39m\u001b[39mCode\u001b[39m\u001b[39m\"\u001b[39m\n\u001b[1;32m   1019\u001b[0m     )\n\u001b[1;32m   1020\u001b[0m     error_class \u001b[39m=\u001b[39m \u001b[39mself\u001b[39m\u001b[39m.\u001b[39mexceptions\u001b[39m.\u001b[39mfrom_code(error_code)\n\u001b[0;32m-> 1021\u001b[0m     \u001b[39mraise\u001b[39;00m error_class(parsed_response, operation_name)\n\u001b[1;32m   1022\u001b[0m \u001b[39melse\u001b[39;00m:\n\u001b[1;32m   1023\u001b[0m     \u001b[39mreturn\u001b[39;00m parsed_response\n",
      "\u001b[0;31mClientError\u001b[0m: An error occurred (RequestEntityTooLargeException) when calling the CreateFunction operation: Request must be smaller than 70167211 bytes for the CreateFunction operation"
     ]
    }
   ],
   "source": [
    "iam_client = boto3.client('iam')\n",
    "role = iam_client.get_role(RoleName='LabRole')\n",
    "aws_lambda = boto3.client('lambda')\n",
    "\n",
    "# Open our Zipped directory\n",
    "with open('my_deployment_package.zip', 'rb') as f:\n",
    "    lambda_zip = f.read()\n",
    "\n",
    "try:\n",
    "    # If function hasn't yet been created, create it\n",
    "    response = aws_lambda.create_function(\n",
    "        FunctionName='routine1',\n",
    "        Runtime='python3.9',\n",
    "        Role=role['Role']['Arn'],\n",
    "        Handler='lambda_function.lambda_handler',\n",
    "        Code=dict(ZipFile=lambda_zip),\n",
    "        Timeout=300\n",
    "    )\n",
    "except aws_lambda.exceptions.ResourceConflictException:\n",
    "    # If function already exists, update it based on zip\n",
    "    # file contents\n",
    "    response = aws_lambda.update_function_code(\n",
    "        S3Bucket='your-bucket-name',\n",
    "        S3Key='path/to/your_deployment_package.zip'\n",
    "    )\n",
    "\n",
    "response = aws_lambda.put_function_concurrency(\n",
    "    FunctionName='routine1',\n",
    "    ReservedConcurrentExecutions=10\n",
    ")"
   ]
  },
  {
   "cell_type": "code",
   "execution_count": 9,
   "metadata": {},
   "outputs": [],
   "source": [
    "iam_client = boto3.client('iam')\n",
    "role = iam_client.get_role(RoleName='LabRole')\n",
    "aws_lambda = boto3.client('lambda')\n",
    "\n",
    "lambda_arn = aws_lambda.get_function(FunctionName='routine222')['Configuration']['FunctionArn']\n",
    "sf_def = make_def(lambda_arn)"
   ]
  },
  {
   "cell_type": "code",
   "execution_count": 10,
   "metadata": {},
   "outputs": [],
   "source": [
    "sfn = boto3.client('stepfunctions') \n",
    "\n",
    "try:\n",
    "    response = sfn.create_state_machine(\n",
    "        name='routine_sfn',\n",
    "        definition=json.dumps(sf_def),\n",
    "        roleArn=role['Role']['Arn'],\n",
    "        type='EXPRESS'\n",
    "    )\n",
    "except sfn.exceptions.StateMachineAlreadyExists:\n",
    "    response = sfn.list_state_machines()\n",
    "    state_machine_arn = [sm['stateMachineArn'] \n",
    "                         for sm in response['stateMachines'] \n",
    "                         if sm['name'] == 'routine_sfn'][0]\n",
    "    response = sfn.update_state_machine(\n",
    "        stateMachineArn=state_machine_arn,\n",
    "        definition=json.dumps(sf_def),\n",
    "        roleArn=role['Role']['Arn']\n",
    "    )\n",
    "\n",
    "# Get arn for Step Function state machine\n",
    "response = sfn.list_state_machines()\n",
    "state_machine_arn = [sm['stateMachineArn'] \n",
    "                     for sm in response['stateMachines'] \n",
    "                     if sm['name'] == 'routine_sfn'][0]"
   ]
  },
  {
   "cell_type": "code",
   "execution_count": 30,
   "metadata": {},
   "outputs": [],
   "source": [
    "# Create a unique ID for each combination\n",
    "from collections.abc import Iterable, Mapping\n",
    "from typing import Any, Optional, Union\n",
    "\n",
    "def make_combination_list(parameters: Mapping[str, Union[Any, Iterable[Any]]],\n",
    ") -> list[dict[str, Any]]:\n",
    "    \"\"\"Create model kwargs from parameters dictionary.\n",
    "\n",
    "    Parameters\n",
    "    ----------\n",
    "    parameters : Mapping[str, Union[Any, Iterable[Any]]]\n",
    "        Single or multiple values for each model parameter name\n",
    "\n",
    "    Returns\n",
    "    -------\n",
    "    List[Dict[str, Any]]\n",
    "        A list of all kwargs combinations.\n",
    "    \"\"\"\n",
    "    parameter_list = []\n",
    "    for param, values in parameters.items():\n",
    "        if isinstance(values, str):\n",
    "            # The values is a single string, so we shouldn't iterate over it.\n",
    "            all_values = [(param, values)]\n",
    "        else:\n",
    "            try:\n",
    "                all_values = [(param, value) for value in values]\n",
    "            except TypeError:\n",
    "                all_values = [(param, values)]\n",
    "        parameter_list.append(all_values)\n",
    "\n",
    "    all_kwargs = itertools.product(*parameter_list)\n",
    "\n",
    "    kwargs_list = []\n",
    "    for kwargs in all_kwargs:\n",
    "        # Create a unique identifier for each combination\n",
    "        unique_id = str(uuid.uuid4())\n",
    "        # Convert tuple pairs into a dictionary and add the unique ID\n",
    "        kwargs_dict = dict(kwargs)\n",
    "        kwargs_dict['combination_id'] = unique_id\n",
    "        kwargs_list.append(kwargs_dict)\n",
    "\n",
    "    return kwargs_list\n"
   ]
  },
  {
   "cell_type": "code",
   "execution_count": 31,
   "metadata": {},
   "outputs": [],
   "source": [
    "parameters = {\n",
    "    \"num_tasks\": range(3, 20, 3),\n",
    "    \"num_nodes\": range(10, 101, 10),\n",
    "    \"num_new_edges\": range(1, 9, 1),\n",
    "    \"skills_ratio\": np.linspace(0.1, 0.5, 11),\n",
    "    \"prob_memory\": np.linspace(0, 1.0, 6),\n",
    "    \"availablity\": np.linspace(0.1, 1.0, 6)\n",
    "}"
   ]
  },
  {
   "cell_type": "code",
   "execution_count": 32,
   "metadata": {},
   "outputs": [],
   "source": [
    "result = make_combination_list(parameters)"
   ]
  },
  {
   "cell_type": "code",
   "execution_count": 33,
   "metadata": {},
   "outputs": [
    {
     "data": {
      "text/plain": [
       "190080"
      ]
     },
     "execution_count": 33,
     "metadata": {},
     "output_type": "execute_result"
    }
   ],
   "source": [
    "len(result)"
   ]
  },
  {
   "cell_type": "code",
   "execution_count": 14,
   "metadata": {},
   "outputs": [
    {
     "data": {
      "text/plain": [
       "{'num_tasks': 2,\n",
       " 'num_nodes': 10,\n",
       " 'num_new_edges': 1,\n",
       " 'skills_proportion': 0.1,\n",
       " 'prob_memory': 0.0,\n",
       " 'availablity': 0.1,\n",
       " 'combination_id': '6bfdf22e-8347-47c8-aa44-48dda8c5b68e'}"
      ]
     },
     "execution_count": 14,
     "metadata": {},
     "output_type": "execute_result"
    }
   ],
   "source": [
    "result[0]"
   ]
  },
  {
   "cell_type": "code",
   "execution_count": 15,
   "metadata": {},
   "outputs": [],
   "source": [
    "total_combinations = len(result)\n",
    "num_workers = 10\n",
    "chunk_size = total_combinations // num_workers\n",
    "combination_batches = [result[i:i+chunk_size] for i in range(0, total_combinations, chunk_size)]\n",
    "# event:{\"combinations_lst\", iterations, max_steps, data_collection_period}\n",
    "data = [{\"combinations_lst\":combination_batches[i],\n",
    "         \"iterations\": 50, \n",
    "         \"max_steps\": 100, \n",
    "         \"data_collection_period\": -1} for i in range(num_workers)]"
   ]
  },
  {
   "cell_type": "code",
   "execution_count": 16,
   "metadata": {},
   "outputs": [
    {
     "ename": "ValidationException",
     "evalue": "An error occurred (ValidationException) when calling the StartSyncExecution operation: 1 validation error detected: Value at 'input' failed to satisfy constraint: Member must have length less than or equal to 262144",
     "output_type": "error",
     "traceback": [
      "\u001b[0;31m---------------------------------------------------------------------------\u001b[0m",
      "\u001b[0;31mValidationException\u001b[0m                       Traceback (most recent call last)",
      "\u001b[1;32m/Users/yingrongmao/Desktop/routine_AWS/step_func.ipynb Cell 21\u001b[0m line \u001b[0;36m1\n\u001b[0;32m----> <a href='vscode-notebook-cell:/Users/yingrongmao/Desktop/routine_AWS/step_func.ipynb#X26sZmlsZQ%3D%3D?line=0'>1</a>\u001b[0m response \u001b[39m=\u001b[39m sfn\u001b[39m.\u001b[39mstart_sync_execution(\n\u001b[1;32m      <a href='vscode-notebook-cell:/Users/yingrongmao/Desktop/routine_AWS/step_func.ipynb#X26sZmlsZQ%3D%3D?line=1'>2</a>\u001b[0m     stateMachineArn\u001b[39m=\u001b[39mstate_machine_arn,\n\u001b[1;32m      <a href='vscode-notebook-cell:/Users/yingrongmao/Desktop/routine_AWS/step_func.ipynb#X26sZmlsZQ%3D%3D?line=2'>3</a>\u001b[0m     name\u001b[39m=\u001b[39m\u001b[39m'\u001b[39m\u001b[39mroutine_sfn\u001b[39m\u001b[39m'\u001b[39m,\n\u001b[1;32m      <a href='vscode-notebook-cell:/Users/yingrongmao/Desktop/routine_AWS/step_func.ipynb#X26sZmlsZQ%3D%3D?line=3'>4</a>\u001b[0m     \u001b[39minput\u001b[39m\u001b[39m=\u001b[39mjson\u001b[39m.\u001b[39mdumps(data)\n\u001b[1;32m      <a href='vscode-notebook-cell:/Users/yingrongmao/Desktop/routine_AWS/step_func.ipynb#X26sZmlsZQ%3D%3D?line=4'>5</a>\u001b[0m )\n",
      "File \u001b[0;32m~/anaconda3/lib/python3.11/site-packages/botocore/client.py:565\u001b[0m, in \u001b[0;36mClientCreator._create_api_method.<locals>._api_call\u001b[0;34m(self, *args, **kwargs)\u001b[0m\n\u001b[1;32m    561\u001b[0m     \u001b[39mraise\u001b[39;00m \u001b[39mTypeError\u001b[39;00m(\n\u001b[1;32m    562\u001b[0m         \u001b[39mf\u001b[39m\u001b[39m\"\u001b[39m\u001b[39m{\u001b[39;00mpy_operation_name\u001b[39m}\u001b[39;00m\u001b[39m() only accepts keyword arguments.\u001b[39m\u001b[39m\"\u001b[39m\n\u001b[1;32m    563\u001b[0m     )\n\u001b[1;32m    564\u001b[0m \u001b[39m# The \"self\" in this scope is referring to the BaseClient.\u001b[39;00m\n\u001b[0;32m--> 565\u001b[0m \u001b[39mreturn\u001b[39;00m \u001b[39mself\u001b[39m\u001b[39m.\u001b[39m_make_api_call(operation_name, kwargs)\n",
      "File \u001b[0;32m~/anaconda3/lib/python3.11/site-packages/botocore/client.py:1021\u001b[0m, in \u001b[0;36mBaseClient._make_api_call\u001b[0;34m(self, operation_name, api_params)\u001b[0m\n\u001b[1;32m   1017\u001b[0m     error_code \u001b[39m=\u001b[39m error_info\u001b[39m.\u001b[39mget(\u001b[39m\"\u001b[39m\u001b[39mQueryErrorCode\u001b[39m\u001b[39m\"\u001b[39m) \u001b[39mor\u001b[39;00m error_info\u001b[39m.\u001b[39mget(\n\u001b[1;32m   1018\u001b[0m         \u001b[39m\"\u001b[39m\u001b[39mCode\u001b[39m\u001b[39m\"\u001b[39m\n\u001b[1;32m   1019\u001b[0m     )\n\u001b[1;32m   1020\u001b[0m     error_class \u001b[39m=\u001b[39m \u001b[39mself\u001b[39m\u001b[39m.\u001b[39mexceptions\u001b[39m.\u001b[39mfrom_code(error_code)\n\u001b[0;32m-> 1021\u001b[0m     \u001b[39mraise\u001b[39;00m error_class(parsed_response, operation_name)\n\u001b[1;32m   1022\u001b[0m \u001b[39melse\u001b[39;00m:\n\u001b[1;32m   1023\u001b[0m     \u001b[39mreturn\u001b[39;00m parsed_response\n",
      "\u001b[0;31mValidationException\u001b[0m: An error occurred (ValidationException) when calling the StartSyncExecution operation: 1 validation error detected: Value at 'input' failed to satisfy constraint: Member must have length less than or equal to 262144"
     ]
    }
   ],
   "source": [
    "response = sfn.start_sync_execution(\n",
    "    stateMachineArn=state_machine_arn,\n",
    "    name='routine_sfn',\n",
    "    input=json.dumps(data)\n",
    ")"
   ]
  },
  {
   "cell_type": "code",
   "execution_count": 17,
   "metadata": {},
   "outputs": [
    {
     "name": "stdout",
     "output_type": "stream",
     "text": [
      "[(0,)]\n"
     ]
    }
   ],
   "source": [
    "cur.execute('SELECT COUNT(*) FROM simulation_data;')\n",
    "query_results = cur.fetchall()\n",
    "print(query_results)"
   ]
  }
 ],
 "metadata": {
  "kernelspec": {
   "display_name": "base",
   "language": "python",
   "name": "python3"
  },
  "language_info": {
   "codemirror_mode": {
    "name": "ipython",
    "version": 3
   },
   "file_extension": ".py",
   "mimetype": "text/x-python",
   "name": "python",
   "nbconvert_exporter": "python",
   "pygments_lexer": "ipython3",
   "version": "3.11.5"
  },
  "orig_nbformat": 4
 },
 "nbformat": 4,
 "nbformat_minor": 2
}
