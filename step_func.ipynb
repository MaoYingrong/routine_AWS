{
 "cells": [
  {
   "cell_type": "code",
   "execution_count": 1,
   "metadata": {},
   "outputs": [],
   "source": [
    "import boto3\n",
    "from sfn_setup import make_def \n",
    "import json\n",
    "import numpy as np"
   ]
  },
  {
   "cell_type": "code",
   "execution_count": 2,
   "metadata": {},
   "outputs": [
    {
     "data": {
      "text/plain": [
       "['finalproject']"
      ]
     },
     "execution_count": 2,
     "metadata": {},
     "output_type": "execute_result"
    }
   ],
   "source": [
    "# Initialize boto3 handler\n",
    "rds = boto3.client('rds')\n",
    "\n",
    "# Describes your currently active databases\n",
    "DBs = rds.describe_db_instances()['DBInstances']\n",
    "activeDBs = [ x['DBName'] for x in DBs ]\n",
    "activeDBs"
   ]
  },
  {
   "cell_type": "code",
   "execution_count": 3,
   "metadata": {},
   "outputs": [],
   "source": [
    "DB_NAME = 'finalproject'\n",
    "INSTANCE_NAME = 'final-instance'\n",
    "\n",
    "if DB_NAME not in activeDBs:\n",
    "    # Create a new MySQL database on AWS\n",
    "    response = rds.create_db_instance(\n",
    "        DBInstanceIdentifier=INSTANCE_NAME,\n",
    "        DBName=DB_NAME,\n",
    "        MasterUsername='username',\n",
    "        MasterUserPassword='password',\n",
    "        DBInstanceClass='db.t3.micro',   # This specifies the EC2 instance that will run the datbase\n",
    "        Engine='MySQL',\n",
    "        AllocatedStorage=5\n",
    "    )\n",
    "rds.get_waiter('db_instance_available').wait(DBInstanceIdentifier=INSTANCE_NAME)"
   ]
  },
  {
   "cell_type": "code",
   "execution_count": 4,
   "metadata": {},
   "outputs": [
    {
     "name": "stdout",
     "output_type": "stream",
     "text": [
      "final-instance is available at final-instance.cjasscu8073h.us-east-1.rds.amazonaws.com on Port 3306\n"
     ]
    }
   ],
   "source": [
    "db = rds.describe_db_instances()['DBInstances'][0]\n",
    "ENDPOINT = db['Endpoint']['Address']\n",
    "PORT = db['Endpoint']['Port']\n",
    "DBID = db['DBInstanceIdentifier']\n",
    "\n",
    "print(DBID,\n",
    "      \"is available at\", ENDPOINT,\n",
    "      \"on Port\", PORT,\n",
    "     )"
   ]
  },
  {
   "cell_type": "code",
   "execution_count": 5,
   "metadata": {},
   "outputs": [
    {
     "name": "stdout",
     "output_type": "stream",
     "text": [
      "Permissions already adjusted.\n"
     ]
    }
   ],
   "source": [
    "SGNAME = db['VpcSecurityGroups'][0]['VpcSecurityGroupId']\n",
    "\n",
    "# Adjust security permissions\n",
    "try:\n",
    "    ec2 = boto3.client('ec2')\n",
    "    data = ec2.authorize_security_group_ingress(\n",
    "            GroupId=SGNAME,\n",
    "            IpPermissions=[\n",
    "                {'IpProtocol': 'tcp',\n",
    "                 'FromPort': PORT,\n",
    "                 'ToPort': PORT,\n",
    "                 'IpRanges': [{'CidrIp': '0.0.0.0/0'}]}\n",
    "            ]\n",
    "    )\n",
    "except ec2.exceptions.ClientError as e:\n",
    "    if e.response[\"Error\"][\"Code\"] == 'InvalidPermission.Duplicate':\n",
    "        print(\"Permissions already adjusted.\")\n",
    "    else:\n",
    "        print(e)"
   ]
  },
  {
   "cell_type": "code",
   "execution_count": 5,
   "metadata": {},
   "outputs": [],
   "source": [
    "import mysql.connector\n",
    "\n",
    "# Connect to the MySQL database\n",
    "conn =  mysql.connector.connect(host=ENDPOINT, \n",
    "                                user=\"username\", \n",
    "                                passwd=\"password\", \n",
    "                                port=PORT, \n",
    "                                database=DB_NAME)\n",
    "cur = conn.cursor()"
   ]
  },
  {
   "cell_type": "code",
   "execution_count": 17,
   "metadata": {},
   "outputs": [],
   "source": [
    "cur.execute(f\"\"\"\n",
    "        CREATE TABLE IF NOT EXISTS simulation_data (\n",
    "        combination_id VARCHAR(36),\n",
    "        RunId INT NOT NULL,\n",
    "        iteration INT NOT NULL,\n",
    "        Step INT NOT NULL,\n",
    "        num_tasks INT NOT NULL,\n",
    "        num_nodes INT NOT NULL,\n",
    "        num_new_edges INT NOT NULL,\n",
    "        skills_proportion FLOAT NOT NULL,\n",
    "        prob_memory FLOAT NOT NULL,\n",
    "        availability FLOAT NOT NULL,\n",
    "        time_lst TEXT NOT NULL,\n",
    "        actor_sequence_lst TEXT NOT NULL \n",
    "    );\n",
    "\"\"\"\n",
    ")"
   ]
  },
  {
   "cell_type": "code",
   "execution_count": 44,
   "metadata": {},
   "outputs": [],
   "source": [
    "iam_client = boto3.client('iam')\n",
    "role = iam_client.get_role(RoleName='LabRole')\n",
    "aws_lambda = boto3.client('lambda')\n",
    "\n",
    "lambda_arn = aws_lambda.get_function(FunctionName='routine_final')['Configuration']['FunctionArn']\n",
    "sf_def = make_def(lambda_arn)"
   ]
  },
  {
   "cell_type": "code",
   "execution_count": 45,
   "metadata": {},
   "outputs": [],
   "source": [
    "sfn = boto3.client('stepfunctions') \n",
    "\n",
    "try:\n",
    "    response = sfn.create_state_machine(\n",
    "        name='routine_final_sfn',\n",
    "        definition=json.dumps(sf_def),\n",
    "        roleArn=role['Role']['Arn'],\n",
    "        type='EXPRESS'\n",
    "    )\n",
    "except sfn.exceptions.StateMachineAlreadyExists:\n",
    "    response = sfn.list_state_machines()\n",
    "    state_machine_arn = [sm['stateMachineArn'] \n",
    "                         for sm in response['stateMachines'] \n",
    "                         if sm['name'] == 'routine_final_sfn'][0]\n",
    "    response = sfn.update_state_machine(\n",
    "        stateMachineArn=state_machine_arn,\n",
    "        definition=json.dumps(sf_def),\n",
    "        roleArn=role['Role']['Arn']\n",
    "    )\n",
    "\n",
    "# Get arn for Step Function state machine\n",
    "response = sfn.list_state_machines()\n",
    "state_machine_arn = [sm['stateMachineArn'] \n",
    "                     for sm in response['stateMachines'] \n",
    "                     if sm['name'] == 'routine_final_sfn'][0]"
   ]
  },
  {
   "cell_type": "code",
   "execution_count": 46,
   "metadata": {},
   "outputs": [],
   "source": [
    "parameters = {\n",
    "    \"num_tasks\": 8,\n",
    "    \"num_nodes\": list(range(10, 101, 10)),\n",
    "    \"num_new_edges\": range(1, 9, 1),\n",
    "    \"skills_proportion\": np.linspace(0.1, 0.5, 5),\n",
    "    \"prob_memory\": list(np.linspace(0, 1.0, 6)),\n",
    "    \"availablity\": 0.1         # list(np.linspace(0.1, 1.0, 4))\n",
    "}"
   ]
  },
  {
   "cell_type": "code",
   "execution_count": 47,
   "metadata": {},
   "outputs": [],
   "source": [
    "num_workers = 10\n",
    "chunk_size = 50 // num_workers\n",
    "parameters[\"iterations\"] = chunk_size\n",
    "data = [parameters]*num_workers"
   ]
  },
  {
   "cell_type": "code",
   "execution_count": null,
   "metadata": {},
   "outputs": [],
   "source": [
    "response = sfn.start_sync_execution(\n",
    "    stateMachineArn=state_machine_arn,\n",
    "    name='routine_final_sfn',\n",
    "    input=json.dumps(data)\n",
    ")"
   ]
  },
  {
   "cell_type": "code",
   "execution_count": 6,
   "metadata": {},
   "outputs": [
    {
     "name": "stdout",
     "output_type": "stream",
     "text": [
      "[(4000,)]\n"
     ]
    }
   ],
   "source": [
    "cur.execute('SELECT COUNT(*) FROM simulation_data;')\n",
    "query_results = cur.fetchall()\n",
    "print(query_results)"
   ]
  }
 ],
 "metadata": {
  "kernelspec": {
   "display_name": "base",
   "language": "python",
   "name": "python3"
  },
  "language_info": {
   "codemirror_mode": {
    "name": "ipython",
    "version": 3
   },
   "file_extension": ".py",
   "mimetype": "text/x-python",
   "name": "python",
   "nbconvert_exporter": "python",
   "pygments_lexer": "ipython3",
   "version": "3.11.5"
  },
  "orig_nbformat": 4
 },
 "nbformat": 4,
 "nbformat_minor": 2
}
